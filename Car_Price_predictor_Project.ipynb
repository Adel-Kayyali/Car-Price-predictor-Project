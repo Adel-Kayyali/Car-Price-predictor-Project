{
  "nbformat": 4,
  "nbformat_minor": 0,
  "metadata": {
    "colab": {
      "provenance": []
    },
    "kernelspec": {
      "name": "python3",
      "display_name": "Python 3"
    },
    "language_info": {
      "name": "python"
    }
  },
  "cells": [
    {
      "cell_type": "markdown",
      "source": [
        "# **Adel Kayyali**\n",
        "\n",
        "\n",
        "---\n",
        "\n",
        "\n",
        "\n",
        "---\n",
        "\n",
        "\n",
        "\n",
        "\n",
        "**Machine learning project**\n",
        "\n",
        "Predicting MRSP (manufacturer's suggested retail price)\n",
        "* Read the cars CSV file and explore its columns\n",
        "* Select features and target\n",
        "* Split data to train and validation\n",
        "* Preprocess data:\n",
        "1. Clean missing values in numeric features\n",
        "2. Clean missing values iin categoracal features\n",
        "3. Encode categorical features\n",
        "* Choose model for regression problem\n",
        "* Model validation: create a function to test performance of the model\n",
        "* Find best leaf nodes\n",
        "* Single or cross validation?\n",
        "* Build final model train it on all data"
      ],
      "metadata": {
        "id": "rIL9zhUcFaWM"
      }
    },
    {
      "cell_type": "code",
      "source": [
        "#Libraries\n",
        "import pandas as pd\n",
        "from sklearn.model_selection import train_test_split"
      ],
      "metadata": {
        "id": "oW2z6h2jFgCs"
      },
      "execution_count": 1,
      "outputs": []
    },
    {
      "cell_type": "code",
      "source": [
        "#Upload the 'cars.csv' file to the colab files (since i don't have enough space in my drive)\n",
        "df=pd.read_csv('/content/cars.csv')"
      ],
      "metadata": {
        "id": "cHNFE5CJGckE"
      },
      "execution_count": 2,
      "outputs": []
    },
    {
      "cell_type": "code",
      "source": [
        "df"
      ],
      "metadata": {
        "colab": {
          "base_uri": "https://localhost:8080/",
          "height": 852
        },
        "id": "1M2R18SVOaJI",
        "outputId": "5026bf75-007c-4245-935c-d66b650bccbd"
      },
      "execution_count": 3,
      "outputs": [
        {
          "output_type": "execute_result",
          "data": {
            "text/plain": [
              "          Make       Model  Year                Engine Fuel Type  Engine HP  \\\n",
              "0          BMW  1 Series M  2011     premium unleaded (required)      335.0   \n",
              "1          BMW    1 Series  2011     premium unleaded (required)      300.0   \n",
              "2          BMW    1 Series  2011     premium unleaded (required)      300.0   \n",
              "3          BMW    1 Series  2011     premium unleaded (required)      230.0   \n",
              "4          BMW    1 Series  2011     premium unleaded (required)      230.0   \n",
              "...        ...         ...   ...                             ...        ...   \n",
              "11909    Acura         ZDX  2012     premium unleaded (required)      300.0   \n",
              "11910    Acura         ZDX  2012     premium unleaded (required)      300.0   \n",
              "11911    Acura         ZDX  2012     premium unleaded (required)      300.0   \n",
              "11912    Acura         ZDX  2013  premium unleaded (recommended)      300.0   \n",
              "11913  Lincoln      Zephyr  2006                regular unleaded      221.0   \n",
              "\n",
              "       Engine Cylinders Transmission Type      Driven_Wheels  Number of Doors  \\\n",
              "0                   6.0            MANUAL   rear wheel drive              2.0   \n",
              "1                   6.0            MANUAL   rear wheel drive              2.0   \n",
              "2                   6.0            MANUAL   rear wheel drive              2.0   \n",
              "3                   6.0            MANUAL   rear wheel drive              2.0   \n",
              "4                   6.0            MANUAL   rear wheel drive              2.0   \n",
              "...                 ...               ...                ...              ...   \n",
              "11909               6.0         AUTOMATIC    all wheel drive              4.0   \n",
              "11910               6.0         AUTOMATIC    all wheel drive              4.0   \n",
              "11911               6.0         AUTOMATIC    all wheel drive              4.0   \n",
              "11912               6.0         AUTOMATIC    all wheel drive              4.0   \n",
              "11913               6.0         AUTOMATIC  front wheel drive              4.0   \n",
              "\n",
              "                             Market Category Vehicle Size  Vehicle Style  \\\n",
              "0      Factory Tuner,Luxury,High-Performance      Compact          Coupe   \n",
              "1                         Luxury,Performance      Compact    Convertible   \n",
              "2                    Luxury,High-Performance      Compact          Coupe   \n",
              "3                         Luxury,Performance      Compact          Coupe   \n",
              "4                                     Luxury      Compact    Convertible   \n",
              "...                                      ...          ...            ...   \n",
              "11909             Crossover,Hatchback,Luxury      Midsize  4dr Hatchback   \n",
              "11910             Crossover,Hatchback,Luxury      Midsize  4dr Hatchback   \n",
              "11911             Crossover,Hatchback,Luxury      Midsize  4dr Hatchback   \n",
              "11912             Crossover,Hatchback,Luxury      Midsize  4dr Hatchback   \n",
              "11913                                 Luxury      Midsize          Sedan   \n",
              "\n",
              "       highway MPG  city mpg  Popularity   MSRP  \n",
              "0               26        19        3916  46135  \n",
              "1               28        19        3916  40650  \n",
              "2               28        20        3916  36350  \n",
              "3               28        18        3916  29450  \n",
              "4               28        18        3916  34500  \n",
              "...            ...       ...         ...    ...  \n",
              "11909           23        16         204  46120  \n",
              "11910           23        16         204  56670  \n",
              "11911           23        16         204  50620  \n",
              "11912           23        16         204  50920  \n",
              "11913           26        17          61  28995  \n",
              "\n",
              "[11914 rows x 16 columns]"
            ],
            "text/html": [
              "\n",
              "  <div id=\"df-bffb0c91-b0aa-4d1e-b8d3-df4e4a30b7ae\">\n",
              "    <div class=\"colab-df-container\">\n",
              "      <div>\n",
              "<style scoped>\n",
              "    .dataframe tbody tr th:only-of-type {\n",
              "        vertical-align: middle;\n",
              "    }\n",
              "\n",
              "    .dataframe tbody tr th {\n",
              "        vertical-align: top;\n",
              "    }\n",
              "\n",
              "    .dataframe thead th {\n",
              "        text-align: right;\n",
              "    }\n",
              "</style>\n",
              "<table border=\"1\" class=\"dataframe\">\n",
              "  <thead>\n",
              "    <tr style=\"text-align: right;\">\n",
              "      <th></th>\n",
              "      <th>Make</th>\n",
              "      <th>Model</th>\n",
              "      <th>Year</th>\n",
              "      <th>Engine Fuel Type</th>\n",
              "      <th>Engine HP</th>\n",
              "      <th>Engine Cylinders</th>\n",
              "      <th>Transmission Type</th>\n",
              "      <th>Driven_Wheels</th>\n",
              "      <th>Number of Doors</th>\n",
              "      <th>Market Category</th>\n",
              "      <th>Vehicle Size</th>\n",
              "      <th>Vehicle Style</th>\n",
              "      <th>highway MPG</th>\n",
              "      <th>city mpg</th>\n",
              "      <th>Popularity</th>\n",
              "      <th>MSRP</th>\n",
              "    </tr>\n",
              "  </thead>\n",
              "  <tbody>\n",
              "    <tr>\n",
              "      <th>0</th>\n",
              "      <td>BMW</td>\n",
              "      <td>1 Series M</td>\n",
              "      <td>2011</td>\n",
              "      <td>premium unleaded (required)</td>\n",
              "      <td>335.0</td>\n",
              "      <td>6.0</td>\n",
              "      <td>MANUAL</td>\n",
              "      <td>rear wheel drive</td>\n",
              "      <td>2.0</td>\n",
              "      <td>Factory Tuner,Luxury,High-Performance</td>\n",
              "      <td>Compact</td>\n",
              "      <td>Coupe</td>\n",
              "      <td>26</td>\n",
              "      <td>19</td>\n",
              "      <td>3916</td>\n",
              "      <td>46135</td>\n",
              "    </tr>\n",
              "    <tr>\n",
              "      <th>1</th>\n",
              "      <td>BMW</td>\n",
              "      <td>1 Series</td>\n",
              "      <td>2011</td>\n",
              "      <td>premium unleaded (required)</td>\n",
              "      <td>300.0</td>\n",
              "      <td>6.0</td>\n",
              "      <td>MANUAL</td>\n",
              "      <td>rear wheel drive</td>\n",
              "      <td>2.0</td>\n",
              "      <td>Luxury,Performance</td>\n",
              "      <td>Compact</td>\n",
              "      <td>Convertible</td>\n",
              "      <td>28</td>\n",
              "      <td>19</td>\n",
              "      <td>3916</td>\n",
              "      <td>40650</td>\n",
              "    </tr>\n",
              "    <tr>\n",
              "      <th>2</th>\n",
              "      <td>BMW</td>\n",
              "      <td>1 Series</td>\n",
              "      <td>2011</td>\n",
              "      <td>premium unleaded (required)</td>\n",
              "      <td>300.0</td>\n",
              "      <td>6.0</td>\n",
              "      <td>MANUAL</td>\n",
              "      <td>rear wheel drive</td>\n",
              "      <td>2.0</td>\n",
              "      <td>Luxury,High-Performance</td>\n",
              "      <td>Compact</td>\n",
              "      <td>Coupe</td>\n",
              "      <td>28</td>\n",
              "      <td>20</td>\n",
              "      <td>3916</td>\n",
              "      <td>36350</td>\n",
              "    </tr>\n",
              "    <tr>\n",
              "      <th>3</th>\n",
              "      <td>BMW</td>\n",
              "      <td>1 Series</td>\n",
              "      <td>2011</td>\n",
              "      <td>premium unleaded (required)</td>\n",
              "      <td>230.0</td>\n",
              "      <td>6.0</td>\n",
              "      <td>MANUAL</td>\n",
              "      <td>rear wheel drive</td>\n",
              "      <td>2.0</td>\n",
              "      <td>Luxury,Performance</td>\n",
              "      <td>Compact</td>\n",
              "      <td>Coupe</td>\n",
              "      <td>28</td>\n",
              "      <td>18</td>\n",
              "      <td>3916</td>\n",
              "      <td>29450</td>\n",
              "    </tr>\n",
              "    <tr>\n",
              "      <th>4</th>\n",
              "      <td>BMW</td>\n",
              "      <td>1 Series</td>\n",
              "      <td>2011</td>\n",
              "      <td>premium unleaded (required)</td>\n",
              "      <td>230.0</td>\n",
              "      <td>6.0</td>\n",
              "      <td>MANUAL</td>\n",
              "      <td>rear wheel drive</td>\n",
              "      <td>2.0</td>\n",
              "      <td>Luxury</td>\n",
              "      <td>Compact</td>\n",
              "      <td>Convertible</td>\n",
              "      <td>28</td>\n",
              "      <td>18</td>\n",
              "      <td>3916</td>\n",
              "      <td>34500</td>\n",
              "    </tr>\n",
              "    <tr>\n",
              "      <th>...</th>\n",
              "      <td>...</td>\n",
              "      <td>...</td>\n",
              "      <td>...</td>\n",
              "      <td>...</td>\n",
              "      <td>...</td>\n",
              "      <td>...</td>\n",
              "      <td>...</td>\n",
              "      <td>...</td>\n",
              "      <td>...</td>\n",
              "      <td>...</td>\n",
              "      <td>...</td>\n",
              "      <td>...</td>\n",
              "      <td>...</td>\n",
              "      <td>...</td>\n",
              "      <td>...</td>\n",
              "      <td>...</td>\n",
              "    </tr>\n",
              "    <tr>\n",
              "      <th>11909</th>\n",
              "      <td>Acura</td>\n",
              "      <td>ZDX</td>\n",
              "      <td>2012</td>\n",
              "      <td>premium unleaded (required)</td>\n",
              "      <td>300.0</td>\n",
              "      <td>6.0</td>\n",
              "      <td>AUTOMATIC</td>\n",
              "      <td>all wheel drive</td>\n",
              "      <td>4.0</td>\n",
              "      <td>Crossover,Hatchback,Luxury</td>\n",
              "      <td>Midsize</td>\n",
              "      <td>4dr Hatchback</td>\n",
              "      <td>23</td>\n",
              "      <td>16</td>\n",
              "      <td>204</td>\n",
              "      <td>46120</td>\n",
              "    </tr>\n",
              "    <tr>\n",
              "      <th>11910</th>\n",
              "      <td>Acura</td>\n",
              "      <td>ZDX</td>\n",
              "      <td>2012</td>\n",
              "      <td>premium unleaded (required)</td>\n",
              "      <td>300.0</td>\n",
              "      <td>6.0</td>\n",
              "      <td>AUTOMATIC</td>\n",
              "      <td>all wheel drive</td>\n",
              "      <td>4.0</td>\n",
              "      <td>Crossover,Hatchback,Luxury</td>\n",
              "      <td>Midsize</td>\n",
              "      <td>4dr Hatchback</td>\n",
              "      <td>23</td>\n",
              "      <td>16</td>\n",
              "      <td>204</td>\n",
              "      <td>56670</td>\n",
              "    </tr>\n",
              "    <tr>\n",
              "      <th>11911</th>\n",
              "      <td>Acura</td>\n",
              "      <td>ZDX</td>\n",
              "      <td>2012</td>\n",
              "      <td>premium unleaded (required)</td>\n",
              "      <td>300.0</td>\n",
              "      <td>6.0</td>\n",
              "      <td>AUTOMATIC</td>\n",
              "      <td>all wheel drive</td>\n",
              "      <td>4.0</td>\n",
              "      <td>Crossover,Hatchback,Luxury</td>\n",
              "      <td>Midsize</td>\n",
              "      <td>4dr Hatchback</td>\n",
              "      <td>23</td>\n",
              "      <td>16</td>\n",
              "      <td>204</td>\n",
              "      <td>50620</td>\n",
              "    </tr>\n",
              "    <tr>\n",
              "      <th>11912</th>\n",
              "      <td>Acura</td>\n",
              "      <td>ZDX</td>\n",
              "      <td>2013</td>\n",
              "      <td>premium unleaded (recommended)</td>\n",
              "      <td>300.0</td>\n",
              "      <td>6.0</td>\n",
              "      <td>AUTOMATIC</td>\n",
              "      <td>all wheel drive</td>\n",
              "      <td>4.0</td>\n",
              "      <td>Crossover,Hatchback,Luxury</td>\n",
              "      <td>Midsize</td>\n",
              "      <td>4dr Hatchback</td>\n",
              "      <td>23</td>\n",
              "      <td>16</td>\n",
              "      <td>204</td>\n",
              "      <td>50920</td>\n",
              "    </tr>\n",
              "    <tr>\n",
              "      <th>11913</th>\n",
              "      <td>Lincoln</td>\n",
              "      <td>Zephyr</td>\n",
              "      <td>2006</td>\n",
              "      <td>regular unleaded</td>\n",
              "      <td>221.0</td>\n",
              "      <td>6.0</td>\n",
              "      <td>AUTOMATIC</td>\n",
              "      <td>front wheel drive</td>\n",
              "      <td>4.0</td>\n",
              "      <td>Luxury</td>\n",
              "      <td>Midsize</td>\n",
              "      <td>Sedan</td>\n",
              "      <td>26</td>\n",
              "      <td>17</td>\n",
              "      <td>61</td>\n",
              "      <td>28995</td>\n",
              "    </tr>\n",
              "  </tbody>\n",
              "</table>\n",
              "<p>11914 rows × 16 columns</p>\n",
              "</div>\n",
              "      <button class=\"colab-df-convert\" onclick=\"convertToInteractive('df-bffb0c91-b0aa-4d1e-b8d3-df4e4a30b7ae')\"\n",
              "              title=\"Convert this dataframe to an interactive table.\"\n",
              "              style=\"display:none;\">\n",
              "        \n",
              "  <svg xmlns=\"http://www.w3.org/2000/svg\" height=\"24px\"viewBox=\"0 0 24 24\"\n",
              "       width=\"24px\">\n",
              "    <path d=\"M0 0h24v24H0V0z\" fill=\"none\"/>\n",
              "    <path d=\"M18.56 5.44l.94 2.06.94-2.06 2.06-.94-2.06-.94-.94-2.06-.94 2.06-2.06.94zm-11 1L8.5 8.5l.94-2.06 2.06-.94-2.06-.94L8.5 2.5l-.94 2.06-2.06.94zm10 10l.94 2.06.94-2.06 2.06-.94-2.06-.94-.94-2.06-.94 2.06-2.06.94z\"/><path d=\"M17.41 7.96l-1.37-1.37c-.4-.4-.92-.59-1.43-.59-.52 0-1.04.2-1.43.59L10.3 9.45l-7.72 7.72c-.78.78-.78 2.05 0 2.83L4 21.41c.39.39.9.59 1.41.59.51 0 1.02-.2 1.41-.59l7.78-7.78 2.81-2.81c.8-.78.8-2.07 0-2.86zM5.41 20L4 18.59l7.72-7.72 1.47 1.35L5.41 20z\"/>\n",
              "  </svg>\n",
              "      </button>\n",
              "      \n",
              "  <style>\n",
              "    .colab-df-container {\n",
              "      display:flex;\n",
              "      flex-wrap:wrap;\n",
              "      gap: 12px;\n",
              "    }\n",
              "\n",
              "    .colab-df-convert {\n",
              "      background-color: #E8F0FE;\n",
              "      border: none;\n",
              "      border-radius: 50%;\n",
              "      cursor: pointer;\n",
              "      display: none;\n",
              "      fill: #1967D2;\n",
              "      height: 32px;\n",
              "      padding: 0 0 0 0;\n",
              "      width: 32px;\n",
              "    }\n",
              "\n",
              "    .colab-df-convert:hover {\n",
              "      background-color: #E2EBFA;\n",
              "      box-shadow: 0px 1px 2px rgba(60, 64, 67, 0.3), 0px 1px 3px 1px rgba(60, 64, 67, 0.15);\n",
              "      fill: #174EA6;\n",
              "    }\n",
              "\n",
              "    [theme=dark] .colab-df-convert {\n",
              "      background-color: #3B4455;\n",
              "      fill: #D2E3FC;\n",
              "    }\n",
              "\n",
              "    [theme=dark] .colab-df-convert:hover {\n",
              "      background-color: #434B5C;\n",
              "      box-shadow: 0px 1px 3px 1px rgba(0, 0, 0, 0.15);\n",
              "      filter: drop-shadow(0px 1px 2px rgba(0, 0, 0, 0.3));\n",
              "      fill: #FFFFFF;\n",
              "    }\n",
              "  </style>\n",
              "\n",
              "      <script>\n",
              "        const buttonEl =\n",
              "          document.querySelector('#df-bffb0c91-b0aa-4d1e-b8d3-df4e4a30b7ae button.colab-df-convert');\n",
              "        buttonEl.style.display =\n",
              "          google.colab.kernel.accessAllowed ? 'block' : 'none';\n",
              "\n",
              "        async function convertToInteractive(key) {\n",
              "          const element = document.querySelector('#df-bffb0c91-b0aa-4d1e-b8d3-df4e4a30b7ae');\n",
              "          const dataTable =\n",
              "            await google.colab.kernel.invokeFunction('convertToInteractive',\n",
              "                                                     [key], {});\n",
              "          if (!dataTable) return;\n",
              "\n",
              "          const docLinkHtml = 'Like what you see? Visit the ' +\n",
              "            '<a target=\"_blank\" href=https://colab.research.google.com/notebooks/data_table.ipynb>data table notebook</a>'\n",
              "            + ' to learn more about interactive tables.';\n",
              "          element.innerHTML = '';\n",
              "          dataTable['output_type'] = 'display_data';\n",
              "          await google.colab.output.renderOutput(dataTable, element);\n",
              "          const docLink = document.createElement('div');\n",
              "          docLink.innerHTML = docLinkHtml;\n",
              "          element.appendChild(docLink);\n",
              "        }\n",
              "      </script>\n",
              "    </div>\n",
              "  </div>\n",
              "  "
            ]
          },
          "metadata": {},
          "execution_count": 3
        }
      ]
    },
    {
      "cell_type": "code",
      "source": [
        "df.isnull().sum()"
      ],
      "metadata": {
        "colab": {
          "base_uri": "https://localhost:8080/"
        },
        "id": "brH97gjxOst6",
        "outputId": "7475c98d-607d-42dd-8875-42a01415873c"
      },
      "execution_count": 4,
      "outputs": [
        {
          "output_type": "execute_result",
          "data": {
            "text/plain": [
              "Make                    0\n",
              "Model                   0\n",
              "Year                    0\n",
              "Engine Fuel Type        3\n",
              "Engine HP              69\n",
              "Engine Cylinders       30\n",
              "Transmission Type       0\n",
              "Driven_Wheels           0\n",
              "Number of Doors         6\n",
              "Market Category      3742\n",
              "Vehicle Size            0\n",
              "Vehicle Style           0\n",
              "highway MPG             0\n",
              "city mpg                0\n",
              "Popularity              0\n",
              "MSRP                    0\n",
              "dtype: int64"
            ]
          },
          "metadata": {},
          "execution_count": 4
        }
      ]
    },
    {
      "cell_type": "code",
      "source": [
        "df.isnull().sum().sum()/(df.shape[0]*df.shape[1])"
      ],
      "metadata": {
        "colab": {
          "base_uri": "https://localhost:8080/"
        },
        "id": "wAhR9wgePeFY",
        "outputId": "35c77adc-8ace-4fc7-fa79-2b1d62c61922"
      },
      "execution_count": 5,
      "outputs": [
        {
          "output_type": "execute_result",
          "data": {
            "text/plain": [
              "0.020196827262044654"
            ]
          },
          "metadata": {},
          "execution_count": 5
        }
      ]
    },
    {
      "cell_type": "code",
      "source": [
        "df.shape"
      ],
      "metadata": {
        "colab": {
          "base_uri": "https://localhost:8080/"
        },
        "id": "gvx-Ih4YUNVO",
        "outputId": "5baee02a-36c5-477d-f52f-5ad69b7d49e2"
      },
      "execution_count": 6,
      "outputs": [
        {
          "output_type": "execute_result",
          "data": {
            "text/plain": [
              "(11914, 16)"
            ]
          },
          "metadata": {},
          "execution_count": 6
        }
      ]
    },
    {
      "cell_type": "code",
      "source": [
        "df.columns"
      ],
      "metadata": {
        "colab": {
          "base_uri": "https://localhost:8080/"
        },
        "id": "AF6tj-lrY7y7",
        "outputId": "c6c904b2-66ec-49f9-bd46-23821b5dca81"
      },
      "execution_count": 7,
      "outputs": [
        {
          "output_type": "execute_result",
          "data": {
            "text/plain": [
              "Index(['Make', 'Model', 'Year', 'Engine Fuel Type', 'Engine HP',\n",
              "       'Engine Cylinders', 'Transmission Type', 'Driven_Wheels',\n",
              "       'Number of Doors', 'Market Category', 'Vehicle Size', 'Vehicle Style',\n",
              "       'highway MPG', 'city mpg', 'Popularity', 'MSRP'],\n",
              "      dtype='object')"
            ]
          },
          "metadata": {},
          "execution_count": 7
        }
      ]
    },
    {
      "cell_type": "code",
      "source": [
        "#the 'Market Category' feature has too many N/A values so I decided to drop it (3700 out of 11900, which means more than the quarter of the data)\n",
        "df.drop(columns='Market Category',inplace=True)"
      ],
      "metadata": {
        "id": "bT2NlnNAY-D4"
      },
      "execution_count": 8,
      "outputs": []
    },
    {
      "cell_type": "code",
      "source": [
        "df.isnull().sum()"
      ],
      "metadata": {
        "colab": {
          "base_uri": "https://localhost:8080/"
        },
        "id": "WeoHCkbmbAxJ",
        "outputId": "d6ccc486-f6f9-4cdc-eca0-bee539d7389f"
      },
      "execution_count": 9,
      "outputs": [
        {
          "output_type": "execute_result",
          "data": {
            "text/plain": [
              "Make                  0\n",
              "Model                 0\n",
              "Year                  0\n",
              "Engine Fuel Type      3\n",
              "Engine HP            69\n",
              "Engine Cylinders     30\n",
              "Transmission Type     0\n",
              "Driven_Wheels         0\n",
              "Number of Doors       6\n",
              "Vehicle Size          0\n",
              "Vehicle Style         0\n",
              "highway MPG           0\n",
              "city mpg              0\n",
              "Popularity            0\n",
              "MSRP                  0\n",
              "dtype: int64"
            ]
          },
          "metadata": {},
          "execution_count": 9
        }
      ]
    },
    {
      "cell_type": "code",
      "source": [
        "df['Number of Doors'].mode()"
      ],
      "metadata": {
        "colab": {
          "base_uri": "https://localhost:8080/"
        },
        "id": "Q5NF8IaDbeGe",
        "outputId": "002d70cb-2d31-4cac-9272-d1b8a52a9a00"
      },
      "execution_count": 10,
      "outputs": [
        {
          "output_type": "execute_result",
          "data": {
            "text/plain": [
              "0    4.0\n",
              "Name: Number of Doors, dtype: float64"
            ]
          },
          "metadata": {},
          "execution_count": 10
        }
      ]
    },
    {
      "cell_type": "code",
      "source": [
        "df['Number of Doors'].fillna(4.0,inplace=True)"
      ],
      "metadata": {
        "id": "PQB70Bm2cKfP"
      },
      "execution_count": 11,
      "outputs": []
    },
    {
      "cell_type": "code",
      "source": [
        "df['Engine Fuel Type'].mode()"
      ],
      "metadata": {
        "colab": {
          "base_uri": "https://localhost:8080/"
        },
        "id": "nuaoPMzr35v_",
        "outputId": "5c995483-0e6f-4d4b-9c4b-5c0f6eed778f"
      },
      "execution_count": 12,
      "outputs": [
        {
          "output_type": "execute_result",
          "data": {
            "text/plain": [
              "0    regular unleaded\n",
              "Name: Engine Fuel Type, dtype: object"
            ]
          },
          "metadata": {},
          "execution_count": 12
        }
      ]
    },
    {
      "cell_type": "code",
      "source": [
        "df['Engine Fuel Type'].fillna('regular unleaded',inplace=True)"
      ],
      "metadata": {
        "id": "ZsnOkyS34ES6"
      },
      "execution_count": 13,
      "outputs": []
    },
    {
      "cell_type": "code",
      "source": [
        "df[df['Engine Cylinders'].isna()]"
      ],
      "metadata": {
        "colab": {
          "base_uri": "https://localhost:8080/",
          "height": 1000
        },
        "id": "GcVaFouq4RBB",
        "outputId": "4e80178c-1d7d-4a9b-fb3b-c1c190c1c0c7"
      },
      "execution_count": 14,
      "outputs": [
        {
          "output_type": "execute_result",
          "data": {
            "text/plain": [
              "            Make    Model  Year             Engine Fuel Type  Engine HP  \\\n",
              "1983   Chevrolet  Bolt EV  2017                     electric      200.0   \n",
              "1984   Chevrolet  Bolt EV  2017                     electric      200.0   \n",
              "3716  Volkswagen   e-Golf  2015                     electric      115.0   \n",
              "3717  Volkswagen   e-Golf  2015                     electric      115.0   \n",
              "3718  Volkswagen   e-Golf  2016                     electric      115.0   \n",
              "3719  Volkswagen   e-Golf  2016                     electric      115.0   \n",
              "5778  Mitsubishi   i-MiEV  2014                     electric        NaN   \n",
              "5779  Mitsubishi   i-MiEV  2016                     electric       66.0   \n",
              "5780  Mitsubishi   i-MiEV  2017                     electric       66.0   \n",
              "8373      Toyota  RAV4 EV  2012                     electric      154.0   \n",
              "8695       Mazda     RX-7  1993             regular unleaded      255.0   \n",
              "8696       Mazda     RX-7  1994             regular unleaded      255.0   \n",
              "8697       Mazda     RX-7  1995             regular unleaded      255.0   \n",
              "8698       Mazda     RX-8  2009  premium unleaded (required)      232.0   \n",
              "8699       Mazda     RX-8  2009  premium unleaded (required)      212.0   \n",
              "8700       Mazda     RX-8  2009  premium unleaded (required)      232.0   \n",
              "8701       Mazda     RX-8  2009  premium unleaded (required)      232.0   \n",
              "8702       Mazda     RX-8  2009  premium unleaded (required)      232.0   \n",
              "8703       Mazda     RX-8  2009  premium unleaded (required)      212.0   \n",
              "8704       Mazda     RX-8  2009  premium unleaded (required)      212.0   \n",
              "8705       Mazda     RX-8  2010  premium unleaded (required)      232.0   \n",
              "8706       Mazda     RX-8  2010  premium unleaded (required)      212.0   \n",
              "8707       Mazda     RX-8  2010  premium unleaded (required)      212.0   \n",
              "8708       Mazda     RX-8  2010  premium unleaded (required)      232.0   \n",
              "8709       Mazda     RX-8  2010  premium unleaded (required)      232.0   \n",
              "8710       Mazda     RX-8  2011  premium unleaded (required)      212.0   \n",
              "8711       Mazda     RX-8  2011  premium unleaded (required)      232.0   \n",
              "8712       Mazda     RX-8  2011  premium unleaded (required)      232.0   \n",
              "8713       Mazda     RX-8  2011  premium unleaded (required)      232.0   \n",
              "8714       Mazda     RX-8  2011  premium unleaded (required)      212.0   \n",
              "\n",
              "      Engine Cylinders Transmission Type      Driven_Wheels  Number of Doors  \\\n",
              "1983               NaN      DIRECT_DRIVE  front wheel drive              4.0   \n",
              "1984               NaN      DIRECT_DRIVE  front wheel drive              4.0   \n",
              "3716               NaN      DIRECT_DRIVE  front wheel drive              4.0   \n",
              "3717               NaN      DIRECT_DRIVE  front wheel drive              4.0   \n",
              "3718               NaN      DIRECT_DRIVE  front wheel drive              4.0   \n",
              "3719               NaN      DIRECT_DRIVE  front wheel drive              4.0   \n",
              "5778               NaN      DIRECT_DRIVE   rear wheel drive              4.0   \n",
              "5779               NaN      DIRECT_DRIVE   rear wheel drive              4.0   \n",
              "5780               NaN      DIRECT_DRIVE   rear wheel drive              4.0   \n",
              "8373               NaN      DIRECT_DRIVE  front wheel drive              4.0   \n",
              "8695               NaN            MANUAL   rear wheel drive              2.0   \n",
              "8696               NaN            MANUAL   rear wheel drive              2.0   \n",
              "8697               NaN            MANUAL   rear wheel drive              2.0   \n",
              "8698               NaN            MANUAL   rear wheel drive              4.0   \n",
              "8699               NaN         AUTOMATIC   rear wheel drive              4.0   \n",
              "8700               NaN            MANUAL   rear wheel drive              4.0   \n",
              "8701               NaN            MANUAL   rear wheel drive              4.0   \n",
              "8702               NaN            MANUAL   rear wheel drive              4.0   \n",
              "8703               NaN         AUTOMATIC   rear wheel drive              4.0   \n",
              "8704               NaN         AUTOMATIC   rear wheel drive              4.0   \n",
              "8705               NaN            MANUAL   rear wheel drive              4.0   \n",
              "8706               NaN         AUTOMATIC   rear wheel drive              4.0   \n",
              "8707               NaN         AUTOMATIC   rear wheel drive              4.0   \n",
              "8708               NaN            MANUAL   rear wheel drive              4.0   \n",
              "8709               NaN            MANUAL   rear wheel drive              4.0   \n",
              "8710               NaN         AUTOMATIC   rear wheel drive              4.0   \n",
              "8711               NaN            MANUAL   rear wheel drive              4.0   \n",
              "8712               NaN            MANUAL   rear wheel drive              4.0   \n",
              "8713               NaN            MANUAL   rear wheel drive              4.0   \n",
              "8714               NaN         AUTOMATIC   rear wheel drive              4.0   \n",
              "\n",
              "     Vehicle Size  Vehicle Style  highway MPG  city mpg  Popularity   MSRP  \n",
              "1983      Compact  4dr Hatchback          110       128        1385  40905  \n",
              "1984      Compact  4dr Hatchback          110       128        1385  36620  \n",
              "3716      Compact  4dr Hatchback          105       126         873  33450  \n",
              "3717      Compact  4dr Hatchback          105       126         873  35445  \n",
              "3718      Compact  4dr Hatchback          105       126         873  28995  \n",
              "3719      Compact  4dr Hatchback          105       126         873  35595  \n",
              "5778      Compact  4dr Hatchback           99       126         436  22995  \n",
              "5779      Compact  4dr Hatchback           99       126         436  22995  \n",
              "5780      Compact  4dr Hatchback          102       121         436  22995  \n",
              "8373      Midsize        4dr SUV           74        78        2031  49800  \n",
              "8695      Compact          Coupe           23        15         586   7523  \n",
              "8696      Compact          Coupe           23        15         586   8147  \n",
              "8697      Compact          Coupe           23        15         586   8839  \n",
              "8698      Compact          Coupe           22        16         586  31930  \n",
              "8699      Compact          Coupe           23        16         586  26435  \n",
              "8700      Compact          Coupe           22        16         586  27860  \n",
              "8701      Compact          Coupe           22        16         586  31000  \n",
              "8702      Compact          Coupe           22        16         586  26435  \n",
              "8703      Compact          Coupe           23        16         586  31700  \n",
              "8704      Compact          Coupe           23        16         586  28560  \n",
              "8705      Compact          Coupe           22        16         586  32140  \n",
              "8706      Compact          Coupe           23        16         586  26645  \n",
              "8707      Compact          Coupe           23        16         586  32810  \n",
              "8708      Compact          Coupe           22        16         586  26645  \n",
              "8709      Compact          Coupe           22        16         586  32110  \n",
              "8710      Compact          Coupe           23        16         586  32960  \n",
              "8711      Compact          Coupe           22        16         586  32260  \n",
              "8712      Compact          Coupe           22        16         586  32290  \n",
              "8713      Compact          Coupe           22        16         586  26795  \n",
              "8714      Compact          Coupe           23        16         586  26795  "
            ],
            "text/html": [
              "\n",
              "  <div id=\"df-df251061-bfee-4fd7-b140-2f12e3f5face\">\n",
              "    <div class=\"colab-df-container\">\n",
              "      <div>\n",
              "<style scoped>\n",
              "    .dataframe tbody tr th:only-of-type {\n",
              "        vertical-align: middle;\n",
              "    }\n",
              "\n",
              "    .dataframe tbody tr th {\n",
              "        vertical-align: top;\n",
              "    }\n",
              "\n",
              "    .dataframe thead th {\n",
              "        text-align: right;\n",
              "    }\n",
              "</style>\n",
              "<table border=\"1\" class=\"dataframe\">\n",
              "  <thead>\n",
              "    <tr style=\"text-align: right;\">\n",
              "      <th></th>\n",
              "      <th>Make</th>\n",
              "      <th>Model</th>\n",
              "      <th>Year</th>\n",
              "      <th>Engine Fuel Type</th>\n",
              "      <th>Engine HP</th>\n",
              "      <th>Engine Cylinders</th>\n",
              "      <th>Transmission Type</th>\n",
              "      <th>Driven_Wheels</th>\n",
              "      <th>Number of Doors</th>\n",
              "      <th>Vehicle Size</th>\n",
              "      <th>Vehicle Style</th>\n",
              "      <th>highway MPG</th>\n",
              "      <th>city mpg</th>\n",
              "      <th>Popularity</th>\n",
              "      <th>MSRP</th>\n",
              "    </tr>\n",
              "  </thead>\n",
              "  <tbody>\n",
              "    <tr>\n",
              "      <th>1983</th>\n",
              "      <td>Chevrolet</td>\n",
              "      <td>Bolt EV</td>\n",
              "      <td>2017</td>\n",
              "      <td>electric</td>\n",
              "      <td>200.0</td>\n",
              "      <td>NaN</td>\n",
              "      <td>DIRECT_DRIVE</td>\n",
              "      <td>front wheel drive</td>\n",
              "      <td>4.0</td>\n",
              "      <td>Compact</td>\n",
              "      <td>4dr Hatchback</td>\n",
              "      <td>110</td>\n",
              "      <td>128</td>\n",
              "      <td>1385</td>\n",
              "      <td>40905</td>\n",
              "    </tr>\n",
              "    <tr>\n",
              "      <th>1984</th>\n",
              "      <td>Chevrolet</td>\n",
              "      <td>Bolt EV</td>\n",
              "      <td>2017</td>\n",
              "      <td>electric</td>\n",
              "      <td>200.0</td>\n",
              "      <td>NaN</td>\n",
              "      <td>DIRECT_DRIVE</td>\n",
              "      <td>front wheel drive</td>\n",
              "      <td>4.0</td>\n",
              "      <td>Compact</td>\n",
              "      <td>4dr Hatchback</td>\n",
              "      <td>110</td>\n",
              "      <td>128</td>\n",
              "      <td>1385</td>\n",
              "      <td>36620</td>\n",
              "    </tr>\n",
              "    <tr>\n",
              "      <th>3716</th>\n",
              "      <td>Volkswagen</td>\n",
              "      <td>e-Golf</td>\n",
              "      <td>2015</td>\n",
              "      <td>electric</td>\n",
              "      <td>115.0</td>\n",
              "      <td>NaN</td>\n",
              "      <td>DIRECT_DRIVE</td>\n",
              "      <td>front wheel drive</td>\n",
              "      <td>4.0</td>\n",
              "      <td>Compact</td>\n",
              "      <td>4dr Hatchback</td>\n",
              "      <td>105</td>\n",
              "      <td>126</td>\n",
              "      <td>873</td>\n",
              "      <td>33450</td>\n",
              "    </tr>\n",
              "    <tr>\n",
              "      <th>3717</th>\n",
              "      <td>Volkswagen</td>\n",
              "      <td>e-Golf</td>\n",
              "      <td>2015</td>\n",
              "      <td>electric</td>\n",
              "      <td>115.0</td>\n",
              "      <td>NaN</td>\n",
              "      <td>DIRECT_DRIVE</td>\n",
              "      <td>front wheel drive</td>\n",
              "      <td>4.0</td>\n",
              "      <td>Compact</td>\n",
              "      <td>4dr Hatchback</td>\n",
              "      <td>105</td>\n",
              "      <td>126</td>\n",
              "      <td>873</td>\n",
              "      <td>35445</td>\n",
              "    </tr>\n",
              "    <tr>\n",
              "      <th>3718</th>\n",
              "      <td>Volkswagen</td>\n",
              "      <td>e-Golf</td>\n",
              "      <td>2016</td>\n",
              "      <td>electric</td>\n",
              "      <td>115.0</td>\n",
              "      <td>NaN</td>\n",
              "      <td>DIRECT_DRIVE</td>\n",
              "      <td>front wheel drive</td>\n",
              "      <td>4.0</td>\n",
              "      <td>Compact</td>\n",
              "      <td>4dr Hatchback</td>\n",
              "      <td>105</td>\n",
              "      <td>126</td>\n",
              "      <td>873</td>\n",
              "      <td>28995</td>\n",
              "    </tr>\n",
              "    <tr>\n",
              "      <th>3719</th>\n",
              "      <td>Volkswagen</td>\n",
              "      <td>e-Golf</td>\n",
              "      <td>2016</td>\n",
              "      <td>electric</td>\n",
              "      <td>115.0</td>\n",
              "      <td>NaN</td>\n",
              "      <td>DIRECT_DRIVE</td>\n",
              "      <td>front wheel drive</td>\n",
              "      <td>4.0</td>\n",
              "      <td>Compact</td>\n",
              "      <td>4dr Hatchback</td>\n",
              "      <td>105</td>\n",
              "      <td>126</td>\n",
              "      <td>873</td>\n",
              "      <td>35595</td>\n",
              "    </tr>\n",
              "    <tr>\n",
              "      <th>5778</th>\n",
              "      <td>Mitsubishi</td>\n",
              "      <td>i-MiEV</td>\n",
              "      <td>2014</td>\n",
              "      <td>electric</td>\n",
              "      <td>NaN</td>\n",
              "      <td>NaN</td>\n",
              "      <td>DIRECT_DRIVE</td>\n",
              "      <td>rear wheel drive</td>\n",
              "      <td>4.0</td>\n",
              "      <td>Compact</td>\n",
              "      <td>4dr Hatchback</td>\n",
              "      <td>99</td>\n",
              "      <td>126</td>\n",
              "      <td>436</td>\n",
              "      <td>22995</td>\n",
              "    </tr>\n",
              "    <tr>\n",
              "      <th>5779</th>\n",
              "      <td>Mitsubishi</td>\n",
              "      <td>i-MiEV</td>\n",
              "      <td>2016</td>\n",
              "      <td>electric</td>\n",
              "      <td>66.0</td>\n",
              "      <td>NaN</td>\n",
              "      <td>DIRECT_DRIVE</td>\n",
              "      <td>rear wheel drive</td>\n",
              "      <td>4.0</td>\n",
              "      <td>Compact</td>\n",
              "      <td>4dr Hatchback</td>\n",
              "      <td>99</td>\n",
              "      <td>126</td>\n",
              "      <td>436</td>\n",
              "      <td>22995</td>\n",
              "    </tr>\n",
              "    <tr>\n",
              "      <th>5780</th>\n",
              "      <td>Mitsubishi</td>\n",
              "      <td>i-MiEV</td>\n",
              "      <td>2017</td>\n",
              "      <td>electric</td>\n",
              "      <td>66.0</td>\n",
              "      <td>NaN</td>\n",
              "      <td>DIRECT_DRIVE</td>\n",
              "      <td>rear wheel drive</td>\n",
              "      <td>4.0</td>\n",
              "      <td>Compact</td>\n",
              "      <td>4dr Hatchback</td>\n",
              "      <td>102</td>\n",
              "      <td>121</td>\n",
              "      <td>436</td>\n",
              "      <td>22995</td>\n",
              "    </tr>\n",
              "    <tr>\n",
              "      <th>8373</th>\n",
              "      <td>Toyota</td>\n",
              "      <td>RAV4 EV</td>\n",
              "      <td>2012</td>\n",
              "      <td>electric</td>\n",
              "      <td>154.0</td>\n",
              "      <td>NaN</td>\n",
              "      <td>DIRECT_DRIVE</td>\n",
              "      <td>front wheel drive</td>\n",
              "      <td>4.0</td>\n",
              "      <td>Midsize</td>\n",
              "      <td>4dr SUV</td>\n",
              "      <td>74</td>\n",
              "      <td>78</td>\n",
              "      <td>2031</td>\n",
              "      <td>49800</td>\n",
              "    </tr>\n",
              "    <tr>\n",
              "      <th>8695</th>\n",
              "      <td>Mazda</td>\n",
              "      <td>RX-7</td>\n",
              "      <td>1993</td>\n",
              "      <td>regular unleaded</td>\n",
              "      <td>255.0</td>\n",
              "      <td>NaN</td>\n",
              "      <td>MANUAL</td>\n",
              "      <td>rear wheel drive</td>\n",
              "      <td>2.0</td>\n",
              "      <td>Compact</td>\n",
              "      <td>Coupe</td>\n",
              "      <td>23</td>\n",
              "      <td>15</td>\n",
              "      <td>586</td>\n",
              "      <td>7523</td>\n",
              "    </tr>\n",
              "    <tr>\n",
              "      <th>8696</th>\n",
              "      <td>Mazda</td>\n",
              "      <td>RX-7</td>\n",
              "      <td>1994</td>\n",
              "      <td>regular unleaded</td>\n",
              "      <td>255.0</td>\n",
              "      <td>NaN</td>\n",
              "      <td>MANUAL</td>\n",
              "      <td>rear wheel drive</td>\n",
              "      <td>2.0</td>\n",
              "      <td>Compact</td>\n",
              "      <td>Coupe</td>\n",
              "      <td>23</td>\n",
              "      <td>15</td>\n",
              "      <td>586</td>\n",
              "      <td>8147</td>\n",
              "    </tr>\n",
              "    <tr>\n",
              "      <th>8697</th>\n",
              "      <td>Mazda</td>\n",
              "      <td>RX-7</td>\n",
              "      <td>1995</td>\n",
              "      <td>regular unleaded</td>\n",
              "      <td>255.0</td>\n",
              "      <td>NaN</td>\n",
              "      <td>MANUAL</td>\n",
              "      <td>rear wheel drive</td>\n",
              "      <td>2.0</td>\n",
              "      <td>Compact</td>\n",
              "      <td>Coupe</td>\n",
              "      <td>23</td>\n",
              "      <td>15</td>\n",
              "      <td>586</td>\n",
              "      <td>8839</td>\n",
              "    </tr>\n",
              "    <tr>\n",
              "      <th>8698</th>\n",
              "      <td>Mazda</td>\n",
              "      <td>RX-8</td>\n",
              "      <td>2009</td>\n",
              "      <td>premium unleaded (required)</td>\n",
              "      <td>232.0</td>\n",
              "      <td>NaN</td>\n",
              "      <td>MANUAL</td>\n",
              "      <td>rear wheel drive</td>\n",
              "      <td>4.0</td>\n",
              "      <td>Compact</td>\n",
              "      <td>Coupe</td>\n",
              "      <td>22</td>\n",
              "      <td>16</td>\n",
              "      <td>586</td>\n",
              "      <td>31930</td>\n",
              "    </tr>\n",
              "    <tr>\n",
              "      <th>8699</th>\n",
              "      <td>Mazda</td>\n",
              "      <td>RX-8</td>\n",
              "      <td>2009</td>\n",
              "      <td>premium unleaded (required)</td>\n",
              "      <td>212.0</td>\n",
              "      <td>NaN</td>\n",
              "      <td>AUTOMATIC</td>\n",
              "      <td>rear wheel drive</td>\n",
              "      <td>4.0</td>\n",
              "      <td>Compact</td>\n",
              "      <td>Coupe</td>\n",
              "      <td>23</td>\n",
              "      <td>16</td>\n",
              "      <td>586</td>\n",
              "      <td>26435</td>\n",
              "    </tr>\n",
              "    <tr>\n",
              "      <th>8700</th>\n",
              "      <td>Mazda</td>\n",
              "      <td>RX-8</td>\n",
              "      <td>2009</td>\n",
              "      <td>premium unleaded (required)</td>\n",
              "      <td>232.0</td>\n",
              "      <td>NaN</td>\n",
              "      <td>MANUAL</td>\n",
              "      <td>rear wheel drive</td>\n",
              "      <td>4.0</td>\n",
              "      <td>Compact</td>\n",
              "      <td>Coupe</td>\n",
              "      <td>22</td>\n",
              "      <td>16</td>\n",
              "      <td>586</td>\n",
              "      <td>27860</td>\n",
              "    </tr>\n",
              "    <tr>\n",
              "      <th>8701</th>\n",
              "      <td>Mazda</td>\n",
              "      <td>RX-8</td>\n",
              "      <td>2009</td>\n",
              "      <td>premium unleaded (required)</td>\n",
              "      <td>232.0</td>\n",
              "      <td>NaN</td>\n",
              "      <td>MANUAL</td>\n",
              "      <td>rear wheel drive</td>\n",
              "      <td>4.0</td>\n",
              "      <td>Compact</td>\n",
              "      <td>Coupe</td>\n",
              "      <td>22</td>\n",
              "      <td>16</td>\n",
              "      <td>586</td>\n",
              "      <td>31000</td>\n",
              "    </tr>\n",
              "    <tr>\n",
              "      <th>8702</th>\n",
              "      <td>Mazda</td>\n",
              "      <td>RX-8</td>\n",
              "      <td>2009</td>\n",
              "      <td>premium unleaded (required)</td>\n",
              "      <td>232.0</td>\n",
              "      <td>NaN</td>\n",
              "      <td>MANUAL</td>\n",
              "      <td>rear wheel drive</td>\n",
              "      <td>4.0</td>\n",
              "      <td>Compact</td>\n",
              "      <td>Coupe</td>\n",
              "      <td>22</td>\n",
              "      <td>16</td>\n",
              "      <td>586</td>\n",
              "      <td>26435</td>\n",
              "    </tr>\n",
              "    <tr>\n",
              "      <th>8703</th>\n",
              "      <td>Mazda</td>\n",
              "      <td>RX-8</td>\n",
              "      <td>2009</td>\n",
              "      <td>premium unleaded (required)</td>\n",
              "      <td>212.0</td>\n",
              "      <td>NaN</td>\n",
              "      <td>AUTOMATIC</td>\n",
              "      <td>rear wheel drive</td>\n",
              "      <td>4.0</td>\n",
              "      <td>Compact</td>\n",
              "      <td>Coupe</td>\n",
              "      <td>23</td>\n",
              "      <td>16</td>\n",
              "      <td>586</td>\n",
              "      <td>31700</td>\n",
              "    </tr>\n",
              "    <tr>\n",
              "      <th>8704</th>\n",
              "      <td>Mazda</td>\n",
              "      <td>RX-8</td>\n",
              "      <td>2009</td>\n",
              "      <td>premium unleaded (required)</td>\n",
              "      <td>212.0</td>\n",
              "      <td>NaN</td>\n",
              "      <td>AUTOMATIC</td>\n",
              "      <td>rear wheel drive</td>\n",
              "      <td>4.0</td>\n",
              "      <td>Compact</td>\n",
              "      <td>Coupe</td>\n",
              "      <td>23</td>\n",
              "      <td>16</td>\n",
              "      <td>586</td>\n",
              "      <td>28560</td>\n",
              "    </tr>\n",
              "    <tr>\n",
              "      <th>8705</th>\n",
              "      <td>Mazda</td>\n",
              "      <td>RX-8</td>\n",
              "      <td>2010</td>\n",
              "      <td>premium unleaded (required)</td>\n",
              "      <td>232.0</td>\n",
              "      <td>NaN</td>\n",
              "      <td>MANUAL</td>\n",
              "      <td>rear wheel drive</td>\n",
              "      <td>4.0</td>\n",
              "      <td>Compact</td>\n",
              "      <td>Coupe</td>\n",
              "      <td>22</td>\n",
              "      <td>16</td>\n",
              "      <td>586</td>\n",
              "      <td>32140</td>\n",
              "    </tr>\n",
              "    <tr>\n",
              "      <th>8706</th>\n",
              "      <td>Mazda</td>\n",
              "      <td>RX-8</td>\n",
              "      <td>2010</td>\n",
              "      <td>premium unleaded (required)</td>\n",
              "      <td>212.0</td>\n",
              "      <td>NaN</td>\n",
              "      <td>AUTOMATIC</td>\n",
              "      <td>rear wheel drive</td>\n",
              "      <td>4.0</td>\n",
              "      <td>Compact</td>\n",
              "      <td>Coupe</td>\n",
              "      <td>23</td>\n",
              "      <td>16</td>\n",
              "      <td>586</td>\n",
              "      <td>26645</td>\n",
              "    </tr>\n",
              "    <tr>\n",
              "      <th>8707</th>\n",
              "      <td>Mazda</td>\n",
              "      <td>RX-8</td>\n",
              "      <td>2010</td>\n",
              "      <td>premium unleaded (required)</td>\n",
              "      <td>212.0</td>\n",
              "      <td>NaN</td>\n",
              "      <td>AUTOMATIC</td>\n",
              "      <td>rear wheel drive</td>\n",
              "      <td>4.0</td>\n",
              "      <td>Compact</td>\n",
              "      <td>Coupe</td>\n",
              "      <td>23</td>\n",
              "      <td>16</td>\n",
              "      <td>586</td>\n",
              "      <td>32810</td>\n",
              "    </tr>\n",
              "    <tr>\n",
              "      <th>8708</th>\n",
              "      <td>Mazda</td>\n",
              "      <td>RX-8</td>\n",
              "      <td>2010</td>\n",
              "      <td>premium unleaded (required)</td>\n",
              "      <td>232.0</td>\n",
              "      <td>NaN</td>\n",
              "      <td>MANUAL</td>\n",
              "      <td>rear wheel drive</td>\n",
              "      <td>4.0</td>\n",
              "      <td>Compact</td>\n",
              "      <td>Coupe</td>\n",
              "      <td>22</td>\n",
              "      <td>16</td>\n",
              "      <td>586</td>\n",
              "      <td>26645</td>\n",
              "    </tr>\n",
              "    <tr>\n",
              "      <th>8709</th>\n",
              "      <td>Mazda</td>\n",
              "      <td>RX-8</td>\n",
              "      <td>2010</td>\n",
              "      <td>premium unleaded (required)</td>\n",
              "      <td>232.0</td>\n",
              "      <td>NaN</td>\n",
              "      <td>MANUAL</td>\n",
              "      <td>rear wheel drive</td>\n",
              "      <td>4.0</td>\n",
              "      <td>Compact</td>\n",
              "      <td>Coupe</td>\n",
              "      <td>22</td>\n",
              "      <td>16</td>\n",
              "      <td>586</td>\n",
              "      <td>32110</td>\n",
              "    </tr>\n",
              "    <tr>\n",
              "      <th>8710</th>\n",
              "      <td>Mazda</td>\n",
              "      <td>RX-8</td>\n",
              "      <td>2011</td>\n",
              "      <td>premium unleaded (required)</td>\n",
              "      <td>212.0</td>\n",
              "      <td>NaN</td>\n",
              "      <td>AUTOMATIC</td>\n",
              "      <td>rear wheel drive</td>\n",
              "      <td>4.0</td>\n",
              "      <td>Compact</td>\n",
              "      <td>Coupe</td>\n",
              "      <td>23</td>\n",
              "      <td>16</td>\n",
              "      <td>586</td>\n",
              "      <td>32960</td>\n",
              "    </tr>\n",
              "    <tr>\n",
              "      <th>8711</th>\n",
              "      <td>Mazda</td>\n",
              "      <td>RX-8</td>\n",
              "      <td>2011</td>\n",
              "      <td>premium unleaded (required)</td>\n",
              "      <td>232.0</td>\n",
              "      <td>NaN</td>\n",
              "      <td>MANUAL</td>\n",
              "      <td>rear wheel drive</td>\n",
              "      <td>4.0</td>\n",
              "      <td>Compact</td>\n",
              "      <td>Coupe</td>\n",
              "      <td>22</td>\n",
              "      <td>16</td>\n",
              "      <td>586</td>\n",
              "      <td>32260</td>\n",
              "    </tr>\n",
              "    <tr>\n",
              "      <th>8712</th>\n",
              "      <td>Mazda</td>\n",
              "      <td>RX-8</td>\n",
              "      <td>2011</td>\n",
              "      <td>premium unleaded (required)</td>\n",
              "      <td>232.0</td>\n",
              "      <td>NaN</td>\n",
              "      <td>MANUAL</td>\n",
              "      <td>rear wheel drive</td>\n",
              "      <td>4.0</td>\n",
              "      <td>Compact</td>\n",
              "      <td>Coupe</td>\n",
              "      <td>22</td>\n",
              "      <td>16</td>\n",
              "      <td>586</td>\n",
              "      <td>32290</td>\n",
              "    </tr>\n",
              "    <tr>\n",
              "      <th>8713</th>\n",
              "      <td>Mazda</td>\n",
              "      <td>RX-8</td>\n",
              "      <td>2011</td>\n",
              "      <td>premium unleaded (required)</td>\n",
              "      <td>232.0</td>\n",
              "      <td>NaN</td>\n",
              "      <td>MANUAL</td>\n",
              "      <td>rear wheel drive</td>\n",
              "      <td>4.0</td>\n",
              "      <td>Compact</td>\n",
              "      <td>Coupe</td>\n",
              "      <td>22</td>\n",
              "      <td>16</td>\n",
              "      <td>586</td>\n",
              "      <td>26795</td>\n",
              "    </tr>\n",
              "    <tr>\n",
              "      <th>8714</th>\n",
              "      <td>Mazda</td>\n",
              "      <td>RX-8</td>\n",
              "      <td>2011</td>\n",
              "      <td>premium unleaded (required)</td>\n",
              "      <td>212.0</td>\n",
              "      <td>NaN</td>\n",
              "      <td>AUTOMATIC</td>\n",
              "      <td>rear wheel drive</td>\n",
              "      <td>4.0</td>\n",
              "      <td>Compact</td>\n",
              "      <td>Coupe</td>\n",
              "      <td>23</td>\n",
              "      <td>16</td>\n",
              "      <td>586</td>\n",
              "      <td>26795</td>\n",
              "    </tr>\n",
              "  </tbody>\n",
              "</table>\n",
              "</div>\n",
              "      <button class=\"colab-df-convert\" onclick=\"convertToInteractive('df-df251061-bfee-4fd7-b140-2f12e3f5face')\"\n",
              "              title=\"Convert this dataframe to an interactive table.\"\n",
              "              style=\"display:none;\">\n",
              "        \n",
              "  <svg xmlns=\"http://www.w3.org/2000/svg\" height=\"24px\"viewBox=\"0 0 24 24\"\n",
              "       width=\"24px\">\n",
              "    <path d=\"M0 0h24v24H0V0z\" fill=\"none\"/>\n",
              "    <path d=\"M18.56 5.44l.94 2.06.94-2.06 2.06-.94-2.06-.94-.94-2.06-.94 2.06-2.06.94zm-11 1L8.5 8.5l.94-2.06 2.06-.94-2.06-.94L8.5 2.5l-.94 2.06-2.06.94zm10 10l.94 2.06.94-2.06 2.06-.94-2.06-.94-.94-2.06-.94 2.06-2.06.94z\"/><path d=\"M17.41 7.96l-1.37-1.37c-.4-.4-.92-.59-1.43-.59-.52 0-1.04.2-1.43.59L10.3 9.45l-7.72 7.72c-.78.78-.78 2.05 0 2.83L4 21.41c.39.39.9.59 1.41.59.51 0 1.02-.2 1.41-.59l7.78-7.78 2.81-2.81c.8-.78.8-2.07 0-2.86zM5.41 20L4 18.59l7.72-7.72 1.47 1.35L5.41 20z\"/>\n",
              "  </svg>\n",
              "      </button>\n",
              "      \n",
              "  <style>\n",
              "    .colab-df-container {\n",
              "      display:flex;\n",
              "      flex-wrap:wrap;\n",
              "      gap: 12px;\n",
              "    }\n",
              "\n",
              "    .colab-df-convert {\n",
              "      background-color: #E8F0FE;\n",
              "      border: none;\n",
              "      border-radius: 50%;\n",
              "      cursor: pointer;\n",
              "      display: none;\n",
              "      fill: #1967D2;\n",
              "      height: 32px;\n",
              "      padding: 0 0 0 0;\n",
              "      width: 32px;\n",
              "    }\n",
              "\n",
              "    .colab-df-convert:hover {\n",
              "      background-color: #E2EBFA;\n",
              "      box-shadow: 0px 1px 2px rgba(60, 64, 67, 0.3), 0px 1px 3px 1px rgba(60, 64, 67, 0.15);\n",
              "      fill: #174EA6;\n",
              "    }\n",
              "\n",
              "    [theme=dark] .colab-df-convert {\n",
              "      background-color: #3B4455;\n",
              "      fill: #D2E3FC;\n",
              "    }\n",
              "\n",
              "    [theme=dark] .colab-df-convert:hover {\n",
              "      background-color: #434B5C;\n",
              "      box-shadow: 0px 1px 3px 1px rgba(0, 0, 0, 0.15);\n",
              "      filter: drop-shadow(0px 1px 2px rgba(0, 0, 0, 0.3));\n",
              "      fill: #FFFFFF;\n",
              "    }\n",
              "  </style>\n",
              "\n",
              "      <script>\n",
              "        const buttonEl =\n",
              "          document.querySelector('#df-df251061-bfee-4fd7-b140-2f12e3f5face button.colab-df-convert');\n",
              "        buttonEl.style.display =\n",
              "          google.colab.kernel.accessAllowed ? 'block' : 'none';\n",
              "\n",
              "        async function convertToInteractive(key) {\n",
              "          const element = document.querySelector('#df-df251061-bfee-4fd7-b140-2f12e3f5face');\n",
              "          const dataTable =\n",
              "            await google.colab.kernel.invokeFunction('convertToInteractive',\n",
              "                                                     [key], {});\n",
              "          if (!dataTable) return;\n",
              "\n",
              "          const docLinkHtml = 'Like what you see? Visit the ' +\n",
              "            '<a target=\"_blank\" href=https://colab.research.google.com/notebooks/data_table.ipynb>data table notebook</a>'\n",
              "            + ' to learn more about interactive tables.';\n",
              "          element.innerHTML = '';\n",
              "          dataTable['output_type'] = 'display_data';\n",
              "          await google.colab.output.renderOutput(dataTable, element);\n",
              "          const docLink = document.createElement('div');\n",
              "          docLink.innerHTML = docLinkHtml;\n",
              "          element.appendChild(docLink);\n",
              "        }\n",
              "      </script>\n",
              "    </div>\n",
              "  </div>\n",
              "  "
            ]
          },
          "metadata": {},
          "execution_count": 14
        }
      ]
    },
    {
      "cell_type": "code",
      "source": [
        "df['Engine Cylinders'].fillna(0.0,inplace=True)\n",
        "#I filled all the null values of this feature with the value (0.0) because mostly,, all the FULL ELECTRIC CARS have no cylinders."
      ],
      "metadata": {
        "id": "f3hMFWKi6Jr8"
      },
      "execution_count": 15,
      "outputs": []
    },
    {
      "cell_type": "code",
      "source": [
        "df[df['Engine HP'].isna()]"
      ],
      "metadata": {
        "colab": {
          "base_uri": "https://localhost:8080/",
          "height": 731
        },
        "id": "N-x0-NN_EFOH",
        "outputId": "bd273f22-3a3d-4a4b-b52d-9696cbf236b5"
      },
      "execution_count": 16,
      "outputs": [
        {
          "output_type": "execute_result",
          "data": {
            "text/plain": [
              "         Make        Model  Year                Engine Fuel Type  Engine HP  \\\n",
              "539      FIAT         500e  2015                        electric        NaN   \n",
              "540      FIAT         500e  2016                        electric        NaN   \n",
              "541      FIAT         500e  2017                        electric        NaN   \n",
              "2905  Lincoln  Continental  2017  premium unleaded (recommended)        NaN   \n",
              "2906  Lincoln  Continental  2017  premium unleaded (recommended)        NaN   \n",
              "...       ...          ...   ...                             ...        ...   \n",
              "9850      Kia      Soul EV  2015                        electric        NaN   \n",
              "9851      Kia      Soul EV  2015                        electric        NaN   \n",
              "9852      Kia      Soul EV  2016                        electric        NaN   \n",
              "9853      Kia      Soul EV  2016                        electric        NaN   \n",
              "9854      Kia      Soul EV  2016                        electric        NaN   \n",
              "\n",
              "      Engine Cylinders Transmission Type      Driven_Wheels  Number of Doors  \\\n",
              "539                0.0      DIRECT_DRIVE  front wheel drive              2.0   \n",
              "540                0.0      DIRECT_DRIVE  front wheel drive              2.0   \n",
              "541                0.0      DIRECT_DRIVE  front wheel drive              2.0   \n",
              "2905               6.0         AUTOMATIC    all wheel drive              4.0   \n",
              "2906               6.0         AUTOMATIC  front wheel drive              4.0   \n",
              "...                ...               ...                ...              ...   \n",
              "9850               0.0      DIRECT_DRIVE  front wheel drive              4.0   \n",
              "9851               0.0      DIRECT_DRIVE  front wheel drive              4.0   \n",
              "9852               0.0      DIRECT_DRIVE  front wheel drive              4.0   \n",
              "9853               0.0      DIRECT_DRIVE  front wheel drive              4.0   \n",
              "9854               0.0      DIRECT_DRIVE  front wheel drive              4.0   \n",
              "\n",
              "     Vehicle Size  Vehicle Style  highway MPG  city mpg  Popularity   MSRP  \n",
              "539       Compact  2dr Hatchback          108       122         819  31800  \n",
              "540       Compact  2dr Hatchback          103       121         819  31800  \n",
              "541       Compact  2dr Hatchback          103       121         819  31800  \n",
              "2905        Large          Sedan           25        17          61  55915  \n",
              "2906        Large          Sedan           27        18          61  62915  \n",
              "...           ...            ...          ...       ...         ...    ...  \n",
              "9850      Compact          Wagon           92       120        1720  35700  \n",
              "9851      Compact          Wagon           92       120        1720  33700  \n",
              "9852      Compact          Wagon           92       120        1720  33950  \n",
              "9853      Compact          Wagon           92       120        1720  31950  \n",
              "9854      Compact          Wagon           92       120        1720  35950  \n",
              "\n",
              "[69 rows x 15 columns]"
            ],
            "text/html": [
              "\n",
              "  <div id=\"df-77e9b69f-4eed-4a50-9089-8d2cc7279eeb\">\n",
              "    <div class=\"colab-df-container\">\n",
              "      <div>\n",
              "<style scoped>\n",
              "    .dataframe tbody tr th:only-of-type {\n",
              "        vertical-align: middle;\n",
              "    }\n",
              "\n",
              "    .dataframe tbody tr th {\n",
              "        vertical-align: top;\n",
              "    }\n",
              "\n",
              "    .dataframe thead th {\n",
              "        text-align: right;\n",
              "    }\n",
              "</style>\n",
              "<table border=\"1\" class=\"dataframe\">\n",
              "  <thead>\n",
              "    <tr style=\"text-align: right;\">\n",
              "      <th></th>\n",
              "      <th>Make</th>\n",
              "      <th>Model</th>\n",
              "      <th>Year</th>\n",
              "      <th>Engine Fuel Type</th>\n",
              "      <th>Engine HP</th>\n",
              "      <th>Engine Cylinders</th>\n",
              "      <th>Transmission Type</th>\n",
              "      <th>Driven_Wheels</th>\n",
              "      <th>Number of Doors</th>\n",
              "      <th>Vehicle Size</th>\n",
              "      <th>Vehicle Style</th>\n",
              "      <th>highway MPG</th>\n",
              "      <th>city mpg</th>\n",
              "      <th>Popularity</th>\n",
              "      <th>MSRP</th>\n",
              "    </tr>\n",
              "  </thead>\n",
              "  <tbody>\n",
              "    <tr>\n",
              "      <th>539</th>\n",
              "      <td>FIAT</td>\n",
              "      <td>500e</td>\n",
              "      <td>2015</td>\n",
              "      <td>electric</td>\n",
              "      <td>NaN</td>\n",
              "      <td>0.0</td>\n",
              "      <td>DIRECT_DRIVE</td>\n",
              "      <td>front wheel drive</td>\n",
              "      <td>2.0</td>\n",
              "      <td>Compact</td>\n",
              "      <td>2dr Hatchback</td>\n",
              "      <td>108</td>\n",
              "      <td>122</td>\n",
              "      <td>819</td>\n",
              "      <td>31800</td>\n",
              "    </tr>\n",
              "    <tr>\n",
              "      <th>540</th>\n",
              "      <td>FIAT</td>\n",
              "      <td>500e</td>\n",
              "      <td>2016</td>\n",
              "      <td>electric</td>\n",
              "      <td>NaN</td>\n",
              "      <td>0.0</td>\n",
              "      <td>DIRECT_DRIVE</td>\n",
              "      <td>front wheel drive</td>\n",
              "      <td>2.0</td>\n",
              "      <td>Compact</td>\n",
              "      <td>2dr Hatchback</td>\n",
              "      <td>103</td>\n",
              "      <td>121</td>\n",
              "      <td>819</td>\n",
              "      <td>31800</td>\n",
              "    </tr>\n",
              "    <tr>\n",
              "      <th>541</th>\n",
              "      <td>FIAT</td>\n",
              "      <td>500e</td>\n",
              "      <td>2017</td>\n",
              "      <td>electric</td>\n",
              "      <td>NaN</td>\n",
              "      <td>0.0</td>\n",
              "      <td>DIRECT_DRIVE</td>\n",
              "      <td>front wheel drive</td>\n",
              "      <td>2.0</td>\n",
              "      <td>Compact</td>\n",
              "      <td>2dr Hatchback</td>\n",
              "      <td>103</td>\n",
              "      <td>121</td>\n",
              "      <td>819</td>\n",
              "      <td>31800</td>\n",
              "    </tr>\n",
              "    <tr>\n",
              "      <th>2905</th>\n",
              "      <td>Lincoln</td>\n",
              "      <td>Continental</td>\n",
              "      <td>2017</td>\n",
              "      <td>premium unleaded (recommended)</td>\n",
              "      <td>NaN</td>\n",
              "      <td>6.0</td>\n",
              "      <td>AUTOMATIC</td>\n",
              "      <td>all wheel drive</td>\n",
              "      <td>4.0</td>\n",
              "      <td>Large</td>\n",
              "      <td>Sedan</td>\n",
              "      <td>25</td>\n",
              "      <td>17</td>\n",
              "      <td>61</td>\n",
              "      <td>55915</td>\n",
              "    </tr>\n",
              "    <tr>\n",
              "      <th>2906</th>\n",
              "      <td>Lincoln</td>\n",
              "      <td>Continental</td>\n",
              "      <td>2017</td>\n",
              "      <td>premium unleaded (recommended)</td>\n",
              "      <td>NaN</td>\n",
              "      <td>6.0</td>\n",
              "      <td>AUTOMATIC</td>\n",
              "      <td>front wheel drive</td>\n",
              "      <td>4.0</td>\n",
              "      <td>Large</td>\n",
              "      <td>Sedan</td>\n",
              "      <td>27</td>\n",
              "      <td>18</td>\n",
              "      <td>61</td>\n",
              "      <td>62915</td>\n",
              "    </tr>\n",
              "    <tr>\n",
              "      <th>...</th>\n",
              "      <td>...</td>\n",
              "      <td>...</td>\n",
              "      <td>...</td>\n",
              "      <td>...</td>\n",
              "      <td>...</td>\n",
              "      <td>...</td>\n",
              "      <td>...</td>\n",
              "      <td>...</td>\n",
              "      <td>...</td>\n",
              "      <td>...</td>\n",
              "      <td>...</td>\n",
              "      <td>...</td>\n",
              "      <td>...</td>\n",
              "      <td>...</td>\n",
              "      <td>...</td>\n",
              "    </tr>\n",
              "    <tr>\n",
              "      <th>9850</th>\n",
              "      <td>Kia</td>\n",
              "      <td>Soul EV</td>\n",
              "      <td>2015</td>\n",
              "      <td>electric</td>\n",
              "      <td>NaN</td>\n",
              "      <td>0.0</td>\n",
              "      <td>DIRECT_DRIVE</td>\n",
              "      <td>front wheel drive</td>\n",
              "      <td>4.0</td>\n",
              "      <td>Compact</td>\n",
              "      <td>Wagon</td>\n",
              "      <td>92</td>\n",
              "      <td>120</td>\n",
              "      <td>1720</td>\n",
              "      <td>35700</td>\n",
              "    </tr>\n",
              "    <tr>\n",
              "      <th>9851</th>\n",
              "      <td>Kia</td>\n",
              "      <td>Soul EV</td>\n",
              "      <td>2015</td>\n",
              "      <td>electric</td>\n",
              "      <td>NaN</td>\n",
              "      <td>0.0</td>\n",
              "      <td>DIRECT_DRIVE</td>\n",
              "      <td>front wheel drive</td>\n",
              "      <td>4.0</td>\n",
              "      <td>Compact</td>\n",
              "      <td>Wagon</td>\n",
              "      <td>92</td>\n",
              "      <td>120</td>\n",
              "      <td>1720</td>\n",
              "      <td>33700</td>\n",
              "    </tr>\n",
              "    <tr>\n",
              "      <th>9852</th>\n",
              "      <td>Kia</td>\n",
              "      <td>Soul EV</td>\n",
              "      <td>2016</td>\n",
              "      <td>electric</td>\n",
              "      <td>NaN</td>\n",
              "      <td>0.0</td>\n",
              "      <td>DIRECT_DRIVE</td>\n",
              "      <td>front wheel drive</td>\n",
              "      <td>4.0</td>\n",
              "      <td>Compact</td>\n",
              "      <td>Wagon</td>\n",
              "      <td>92</td>\n",
              "      <td>120</td>\n",
              "      <td>1720</td>\n",
              "      <td>33950</td>\n",
              "    </tr>\n",
              "    <tr>\n",
              "      <th>9853</th>\n",
              "      <td>Kia</td>\n",
              "      <td>Soul EV</td>\n",
              "      <td>2016</td>\n",
              "      <td>electric</td>\n",
              "      <td>NaN</td>\n",
              "      <td>0.0</td>\n",
              "      <td>DIRECT_DRIVE</td>\n",
              "      <td>front wheel drive</td>\n",
              "      <td>4.0</td>\n",
              "      <td>Compact</td>\n",
              "      <td>Wagon</td>\n",
              "      <td>92</td>\n",
              "      <td>120</td>\n",
              "      <td>1720</td>\n",
              "      <td>31950</td>\n",
              "    </tr>\n",
              "    <tr>\n",
              "      <th>9854</th>\n",
              "      <td>Kia</td>\n",
              "      <td>Soul EV</td>\n",
              "      <td>2016</td>\n",
              "      <td>electric</td>\n",
              "      <td>NaN</td>\n",
              "      <td>0.0</td>\n",
              "      <td>DIRECT_DRIVE</td>\n",
              "      <td>front wheel drive</td>\n",
              "      <td>4.0</td>\n",
              "      <td>Compact</td>\n",
              "      <td>Wagon</td>\n",
              "      <td>92</td>\n",
              "      <td>120</td>\n",
              "      <td>1720</td>\n",
              "      <td>35950</td>\n",
              "    </tr>\n",
              "  </tbody>\n",
              "</table>\n",
              "<p>69 rows × 15 columns</p>\n",
              "</div>\n",
              "      <button class=\"colab-df-convert\" onclick=\"convertToInteractive('df-77e9b69f-4eed-4a50-9089-8d2cc7279eeb')\"\n",
              "              title=\"Convert this dataframe to an interactive table.\"\n",
              "              style=\"display:none;\">\n",
              "        \n",
              "  <svg xmlns=\"http://www.w3.org/2000/svg\" height=\"24px\"viewBox=\"0 0 24 24\"\n",
              "       width=\"24px\">\n",
              "    <path d=\"M0 0h24v24H0V0z\" fill=\"none\"/>\n",
              "    <path d=\"M18.56 5.44l.94 2.06.94-2.06 2.06-.94-2.06-.94-.94-2.06-.94 2.06-2.06.94zm-11 1L8.5 8.5l.94-2.06 2.06-.94-2.06-.94L8.5 2.5l-.94 2.06-2.06.94zm10 10l.94 2.06.94-2.06 2.06-.94-2.06-.94-.94-2.06-.94 2.06-2.06.94z\"/><path d=\"M17.41 7.96l-1.37-1.37c-.4-.4-.92-.59-1.43-.59-.52 0-1.04.2-1.43.59L10.3 9.45l-7.72 7.72c-.78.78-.78 2.05 0 2.83L4 21.41c.39.39.9.59 1.41.59.51 0 1.02-.2 1.41-.59l7.78-7.78 2.81-2.81c.8-.78.8-2.07 0-2.86zM5.41 20L4 18.59l7.72-7.72 1.47 1.35L5.41 20z\"/>\n",
              "  </svg>\n",
              "      </button>\n",
              "      \n",
              "  <style>\n",
              "    .colab-df-container {\n",
              "      display:flex;\n",
              "      flex-wrap:wrap;\n",
              "      gap: 12px;\n",
              "    }\n",
              "\n",
              "    .colab-df-convert {\n",
              "      background-color: #E8F0FE;\n",
              "      border: none;\n",
              "      border-radius: 50%;\n",
              "      cursor: pointer;\n",
              "      display: none;\n",
              "      fill: #1967D2;\n",
              "      height: 32px;\n",
              "      padding: 0 0 0 0;\n",
              "      width: 32px;\n",
              "    }\n",
              "\n",
              "    .colab-df-convert:hover {\n",
              "      background-color: #E2EBFA;\n",
              "      box-shadow: 0px 1px 2px rgba(60, 64, 67, 0.3), 0px 1px 3px 1px rgba(60, 64, 67, 0.15);\n",
              "      fill: #174EA6;\n",
              "    }\n",
              "\n",
              "    [theme=dark] .colab-df-convert {\n",
              "      background-color: #3B4455;\n",
              "      fill: #D2E3FC;\n",
              "    }\n",
              "\n",
              "    [theme=dark] .colab-df-convert:hover {\n",
              "      background-color: #434B5C;\n",
              "      box-shadow: 0px 1px 3px 1px rgba(0, 0, 0, 0.15);\n",
              "      filter: drop-shadow(0px 1px 2px rgba(0, 0, 0, 0.3));\n",
              "      fill: #FFFFFF;\n",
              "    }\n",
              "  </style>\n",
              "\n",
              "      <script>\n",
              "        const buttonEl =\n",
              "          document.querySelector('#df-77e9b69f-4eed-4a50-9089-8d2cc7279eeb button.colab-df-convert');\n",
              "        buttonEl.style.display =\n",
              "          google.colab.kernel.accessAllowed ? 'block' : 'none';\n",
              "\n",
              "        async function convertToInteractive(key) {\n",
              "          const element = document.querySelector('#df-77e9b69f-4eed-4a50-9089-8d2cc7279eeb');\n",
              "          const dataTable =\n",
              "            await google.colab.kernel.invokeFunction('convertToInteractive',\n",
              "                                                     [key], {});\n",
              "          if (!dataTable) return;\n",
              "\n",
              "          const docLinkHtml = 'Like what you see? Visit the ' +\n",
              "            '<a target=\"_blank\" href=https://colab.research.google.com/notebooks/data_table.ipynb>data table notebook</a>'\n",
              "            + ' to learn more about interactive tables.';\n",
              "          element.innerHTML = '';\n",
              "          dataTable['output_type'] = 'display_data';\n",
              "          await google.colab.output.renderOutput(dataTable, element);\n",
              "          const docLink = document.createElement('div');\n",
              "          docLink.innerHTML = docLinkHtml;\n",
              "          element.appendChild(docLink);\n",
              "        }\n",
              "      </script>\n",
              "    </div>\n",
              "  </div>\n",
              "  "
            ]
          },
          "metadata": {},
          "execution_count": 16
        }
      ]
    },
    {
      "cell_type": "code",
      "source": [
        "df['Engine HP'].mean()"
      ],
      "metadata": {
        "colab": {
          "base_uri": "https://localhost:8080/"
        },
        "id": "MRxQkUGvE7rj",
        "outputId": "1100127a-10b2-4ef7-dd6c-5264a2cf3025"
      },
      "execution_count": 17,
      "outputs": [
        {
          "output_type": "execute_result",
          "data": {
            "text/plain": [
              "249.38607007176023"
            ]
          },
          "metadata": {},
          "execution_count": 17
        }
      ]
    },
    {
      "cell_type": "code",
      "source": [
        "df['Engine HP'].fillna(249.38607007176023 ,inplace=True)"
      ],
      "metadata": {
        "id": "3pzpQOO3HMNu"
      },
      "execution_count": 18,
      "outputs": []
    },
    {
      "cell_type": "code",
      "source": [
        "df.isnull().sum()"
      ],
      "metadata": {
        "colab": {
          "base_uri": "https://localhost:8080/"
        },
        "id": "LSXnFUm8HcZT",
        "outputId": "c8fd158a-3f7b-48d0-a6cf-8b50b7f47571"
      },
      "execution_count": 19,
      "outputs": [
        {
          "output_type": "execute_result",
          "data": {
            "text/plain": [
              "Make                 0\n",
              "Model                0\n",
              "Year                 0\n",
              "Engine Fuel Type     0\n",
              "Engine HP            0\n",
              "Engine Cylinders     0\n",
              "Transmission Type    0\n",
              "Driven_Wheels        0\n",
              "Number of Doors      0\n",
              "Vehicle Size         0\n",
              "Vehicle Style        0\n",
              "highway MPG          0\n",
              "city mpg             0\n",
              "Popularity           0\n",
              "MSRP                 0\n",
              "dtype: int64"
            ]
          },
          "metadata": {},
          "execution_count": 19
        }
      ]
    },
    {
      "cell_type": "markdown",
      "source": [
        "\n",
        "\n",
        "---\n",
        "\n",
        "\n",
        "\n",
        "---\n",
        "\n"
      ],
      "metadata": {
        "id": "43G8PRbDIYBR"
      }
    },
    {
      "cell_type": "markdown",
      "source": [
        "# **Encoding The Categorical Features**"
      ],
      "metadata": {
        "id": "7Rg3ofmlL8KE"
      }
    },
    {
      "cell_type": "code",
      "source": [
        "cols_cat = df.select_dtypes('object').columns\n",
        "cols_cat = cols_cat.to_list()\n",
        "cols_cat"
      ],
      "metadata": {
        "colab": {
          "base_uri": "https://localhost:8080/"
        },
        "id": "c9NpXDCw65cr",
        "outputId": "1c949a57-8dba-429b-ee10-b07166674410"
      },
      "execution_count": 20,
      "outputs": [
        {
          "output_type": "execute_result",
          "data": {
            "text/plain": [
              "['Make',\n",
              " 'Model',\n",
              " 'Engine Fuel Type',\n",
              " 'Transmission Type',\n",
              " 'Driven_Wheels',\n",
              " 'Vehicle Size',\n",
              " 'Vehicle Style']"
            ]
          },
          "metadata": {},
          "execution_count": 20
        }
      ]
    },
    {
      "cell_type": "code",
      "source": [
        "df[cols_cat].describe()"
      ],
      "metadata": {
        "colab": {
          "base_uri": "https://localhost:8080/",
          "height": 219
        },
        "id": "G4cZ6zXr65Z1",
        "outputId": "3d39acb7-32e8-4d35-823b-5173b9258779"
      },
      "execution_count": 21,
      "outputs": [
        {
          "output_type": "execute_result",
          "data": {
            "text/plain": [
              "             Make           Model  Engine Fuel Type Transmission Type  \\\n",
              "count       11914           11914             11914             11914   \n",
              "unique         48             915                10                 5   \n",
              "top     Chevrolet  Silverado 1500  regular unleaded         AUTOMATIC   \n",
              "freq         1123             156              7175              8266   \n",
              "\n",
              "            Driven_Wheels Vehicle Size Vehicle Style  \n",
              "count               11914        11914         11914  \n",
              "unique                  4            3            16  \n",
              "top     front wheel drive      Compact         Sedan  \n",
              "freq                 4787         4764          3048  "
            ],
            "text/html": [
              "\n",
              "  <div id=\"df-c0610a6b-2979-408f-9e6c-130fa76e459f\">\n",
              "    <div class=\"colab-df-container\">\n",
              "      <div>\n",
              "<style scoped>\n",
              "    .dataframe tbody tr th:only-of-type {\n",
              "        vertical-align: middle;\n",
              "    }\n",
              "\n",
              "    .dataframe tbody tr th {\n",
              "        vertical-align: top;\n",
              "    }\n",
              "\n",
              "    .dataframe thead th {\n",
              "        text-align: right;\n",
              "    }\n",
              "</style>\n",
              "<table border=\"1\" class=\"dataframe\">\n",
              "  <thead>\n",
              "    <tr style=\"text-align: right;\">\n",
              "      <th></th>\n",
              "      <th>Make</th>\n",
              "      <th>Model</th>\n",
              "      <th>Engine Fuel Type</th>\n",
              "      <th>Transmission Type</th>\n",
              "      <th>Driven_Wheels</th>\n",
              "      <th>Vehicle Size</th>\n",
              "      <th>Vehicle Style</th>\n",
              "    </tr>\n",
              "  </thead>\n",
              "  <tbody>\n",
              "    <tr>\n",
              "      <th>count</th>\n",
              "      <td>11914</td>\n",
              "      <td>11914</td>\n",
              "      <td>11914</td>\n",
              "      <td>11914</td>\n",
              "      <td>11914</td>\n",
              "      <td>11914</td>\n",
              "      <td>11914</td>\n",
              "    </tr>\n",
              "    <tr>\n",
              "      <th>unique</th>\n",
              "      <td>48</td>\n",
              "      <td>915</td>\n",
              "      <td>10</td>\n",
              "      <td>5</td>\n",
              "      <td>4</td>\n",
              "      <td>3</td>\n",
              "      <td>16</td>\n",
              "    </tr>\n",
              "    <tr>\n",
              "      <th>top</th>\n",
              "      <td>Chevrolet</td>\n",
              "      <td>Silverado 1500</td>\n",
              "      <td>regular unleaded</td>\n",
              "      <td>AUTOMATIC</td>\n",
              "      <td>front wheel drive</td>\n",
              "      <td>Compact</td>\n",
              "      <td>Sedan</td>\n",
              "    </tr>\n",
              "    <tr>\n",
              "      <th>freq</th>\n",
              "      <td>1123</td>\n",
              "      <td>156</td>\n",
              "      <td>7175</td>\n",
              "      <td>8266</td>\n",
              "      <td>4787</td>\n",
              "      <td>4764</td>\n",
              "      <td>3048</td>\n",
              "    </tr>\n",
              "  </tbody>\n",
              "</table>\n",
              "</div>\n",
              "      <button class=\"colab-df-convert\" onclick=\"convertToInteractive('df-c0610a6b-2979-408f-9e6c-130fa76e459f')\"\n",
              "              title=\"Convert this dataframe to an interactive table.\"\n",
              "              style=\"display:none;\">\n",
              "        \n",
              "  <svg xmlns=\"http://www.w3.org/2000/svg\" height=\"24px\"viewBox=\"0 0 24 24\"\n",
              "       width=\"24px\">\n",
              "    <path d=\"M0 0h24v24H0V0z\" fill=\"none\"/>\n",
              "    <path d=\"M18.56 5.44l.94 2.06.94-2.06 2.06-.94-2.06-.94-.94-2.06-.94 2.06-2.06.94zm-11 1L8.5 8.5l.94-2.06 2.06-.94-2.06-.94L8.5 2.5l-.94 2.06-2.06.94zm10 10l.94 2.06.94-2.06 2.06-.94-2.06-.94-.94-2.06-.94 2.06-2.06.94z\"/><path d=\"M17.41 7.96l-1.37-1.37c-.4-.4-.92-.59-1.43-.59-.52 0-1.04.2-1.43.59L10.3 9.45l-7.72 7.72c-.78.78-.78 2.05 0 2.83L4 21.41c.39.39.9.59 1.41.59.51 0 1.02-.2 1.41-.59l7.78-7.78 2.81-2.81c.8-.78.8-2.07 0-2.86zM5.41 20L4 18.59l7.72-7.72 1.47 1.35L5.41 20z\"/>\n",
              "  </svg>\n",
              "      </button>\n",
              "      \n",
              "  <style>\n",
              "    .colab-df-container {\n",
              "      display:flex;\n",
              "      flex-wrap:wrap;\n",
              "      gap: 12px;\n",
              "    }\n",
              "\n",
              "    .colab-df-convert {\n",
              "      background-color: #E8F0FE;\n",
              "      border: none;\n",
              "      border-radius: 50%;\n",
              "      cursor: pointer;\n",
              "      display: none;\n",
              "      fill: #1967D2;\n",
              "      height: 32px;\n",
              "      padding: 0 0 0 0;\n",
              "      width: 32px;\n",
              "    }\n",
              "\n",
              "    .colab-df-convert:hover {\n",
              "      background-color: #E2EBFA;\n",
              "      box-shadow: 0px 1px 2px rgba(60, 64, 67, 0.3), 0px 1px 3px 1px rgba(60, 64, 67, 0.15);\n",
              "      fill: #174EA6;\n",
              "    }\n",
              "\n",
              "    [theme=dark] .colab-df-convert {\n",
              "      background-color: #3B4455;\n",
              "      fill: #D2E3FC;\n",
              "    }\n",
              "\n",
              "    [theme=dark] .colab-df-convert:hover {\n",
              "      background-color: #434B5C;\n",
              "      box-shadow: 0px 1px 3px 1px rgba(0, 0, 0, 0.15);\n",
              "      filter: drop-shadow(0px 1px 2px rgba(0, 0, 0, 0.3));\n",
              "      fill: #FFFFFF;\n",
              "    }\n",
              "  </style>\n",
              "\n",
              "      <script>\n",
              "        const buttonEl =\n",
              "          document.querySelector('#df-c0610a6b-2979-408f-9e6c-130fa76e459f button.colab-df-convert');\n",
              "        buttonEl.style.display =\n",
              "          google.colab.kernel.accessAllowed ? 'block' : 'none';\n",
              "\n",
              "        async function convertToInteractive(key) {\n",
              "          const element = document.querySelector('#df-c0610a6b-2979-408f-9e6c-130fa76e459f');\n",
              "          const dataTable =\n",
              "            await google.colab.kernel.invokeFunction('convertToInteractive',\n",
              "                                                     [key], {});\n",
              "          if (!dataTable) return;\n",
              "\n",
              "          const docLinkHtml = 'Like what you see? Visit the ' +\n",
              "            '<a target=\"_blank\" href=https://colab.research.google.com/notebooks/data_table.ipynb>data table notebook</a>'\n",
              "            + ' to learn more about interactive tables.';\n",
              "          element.innerHTML = '';\n",
              "          dataTable['output_type'] = 'display_data';\n",
              "          await google.colab.output.renderOutput(dataTable, element);\n",
              "          const docLink = document.createElement('div');\n",
              "          docLink.innerHTML = docLinkHtml;\n",
              "          element.appendChild(docLink);\n",
              "        }\n",
              "      </script>\n",
              "    </div>\n",
              "  </div>\n",
              "  "
            ]
          },
          "metadata": {},
          "execution_count": 21
        }
      ]
    },
    {
      "cell_type": "code",
      "source": [
        "df.shape"
      ],
      "metadata": {
        "colab": {
          "base_uri": "https://localhost:8080/"
        },
        "id": "cZcFnoSX75ug",
        "outputId": "433cd7e5-2a0d-46fd-81ff-218fd2c0025d"
      },
      "execution_count": 22,
      "outputs": [
        {
          "output_type": "execute_result",
          "data": {
            "text/plain": [
              "(11914, 15)"
            ]
          },
          "metadata": {},
          "execution_count": 22
        }
      ]
    },
    {
      "cell_type": "code",
      "source": [
        "from sklearn.preprocessing import OrdinalEncoder\n",
        "\n",
        "oe = OrdinalEncoder()\n",
        "df[cols_cat] = oe.fit_transform(df[cols_cat])\n",
        "df.shape"
      ],
      "metadata": {
        "colab": {
          "base_uri": "https://localhost:8080/"
        },
        "id": "HtrtNu7j65Wm",
        "outputId": "9a051c22-96e6-4b90-b29f-17e453c9b53d"
      },
      "execution_count": 23,
      "outputs": [
        {
          "output_type": "execute_result",
          "data": {
            "text/plain": [
              "(11914, 15)"
            ]
          },
          "metadata": {},
          "execution_count": 23
        }
      ]
    },
    {
      "cell_type": "markdown",
      "source": [
        "--- \n",
        "---\n",
        "\n",
        "# **Choose model**"
      ],
      "metadata": {
        "id": "-jkx_YgL8EJH"
      }
    },
    {
      "cell_type": "code",
      "source": [
        "X = df.drop(columns='MSRP')\n",
        "y = df['MSRP']\n",
        "\n",
        "X.shape, y.shape"
      ],
      "metadata": {
        "colab": {
          "base_uri": "https://localhost:8080/"
        },
        "id": "yJFqDs0SHfOd",
        "outputId": "bb7b3340-3570-4d2d-c346-12126c702f6f"
      },
      "execution_count": 24,
      "outputs": [
        {
          "output_type": "execute_result",
          "data": {
            "text/plain": [
              "((11914, 14), (11914,))"
            ]
          },
          "metadata": {},
          "execution_count": 24
        }
      ]
    },
    {
      "cell_type": "code",
      "source": [
        "X_train, X_val, y_train, y_val = train_test_split(X, y, test_size = 0.2, random_state = 42)\n",
        "\n",
        "X_train.shape, X_val.shape, y_train.shape, y_val.shape"
      ],
      "metadata": {
        "colab": {
          "base_uri": "https://localhost:8080/"
        },
        "id": "3cmyeAsdIW-N",
        "outputId": "e7bf3444-c465-40b3-cdfe-b903ab0008ad"
      },
      "execution_count": 25,
      "outputs": [
        {
          "output_type": "execute_result",
          "data": {
            "text/plain": [
              "((9531, 14), (2383, 14), (9531,), (2383,))"
            ]
          },
          "metadata": {},
          "execution_count": 25
        }
      ]
    },
    {
      "cell_type": "code",
      "source": [
        "from sklearn.linear_model import LinearRegression\n",
        "\n",
        "model = LinearRegression()\n",
        "model.fit(X_train, y_train)\n",
        "y_pred = model.predict(X_val)"
      ],
      "metadata": {
        "id": "shl59yZFLdHI"
      },
      "execution_count": 26,
      "outputs": []
    },
    {
      "cell_type": "markdown",
      "source": [
        "# **Model Validation**"
      ],
      "metadata": {
        "id": "kXbDZaMZ8pZ7"
      }
    },
    {
      "cell_type": "code",
      "source": [
        "from sklearn.metrics import mean_squared_error\n",
        "import math\n",
        "\n",
        "def model_validation(y_true, y_pred):\n",
        "  mse = mean_squared_error(y_true, y_pred)\n",
        "  rmse = math.sqrt(mse)\n",
        "  print(\"RMSE: \", rmse)\n",
        "\n",
        "\n",
        "model_validation(y_val, y_pred)"
      ],
      "metadata": {
        "colab": {
          "base_uri": "https://localhost:8080/"
        },
        "id": "wkwseomS8o9P",
        "outputId": "858da58a-3a13-4fac-86bd-c5e190ad7ceb"
      },
      "execution_count": 27,
      "outputs": [
        {
          "output_type": "stream",
          "name": "stdout",
          "text": [
            "RMSE:  31574.15348686775\n"
          ]
        }
      ]
    },
    {
      "cell_type": "code",
      "source": [
        "from sklearn.tree import DecisionTreeRegressor\n",
        "\n",
        "model = DecisionTreeRegressor()\n",
        "model.fit(X_train, y_train)\n",
        "y_pred = model.predict(X_val)\n",
        "model_validation(y_val, y_pred)"
      ],
      "metadata": {
        "colab": {
          "base_uri": "https://localhost:8080/"
        },
        "id": "tT5F3Vgj8lbR",
        "outputId": "8cb32de6-ce55-407e-9755-be90a066028e"
      },
      "execution_count": 28,
      "outputs": [
        {
          "output_type": "stream",
          "name": "stdout",
          "text": [
            "RMSE:  10540.065408621895\n"
          ]
        }
      ]
    },
    {
      "cell_type": "code",
      "source": [
        "from sklearn.ensemble import RandomForestRegressor\n",
        "\n",
        "model = RandomForestRegressor()\n",
        "model.fit(X_train, y_train)\n",
        "y_pred = model.predict(X_val)\n",
        "model_validation(y_val, y_pred)"
      ],
      "metadata": {
        "colab": {
          "base_uri": "https://localhost:8080/"
        },
        "id": "bax9u3LX-jRn",
        "outputId": "a823c768-2768-41de-9d53-e0bb88d79e33"
      },
      "execution_count": 29,
      "outputs": [
        {
          "output_type": "stream",
          "name": "stdout",
          "text": [
            "RMSE:  6670.037424233324\n"
          ]
        }
      ]
    },
    {
      "cell_type": "markdown",
      "source": [
        "---\n",
        "---\n",
        "# **Best Leaf Node**"
      ],
      "metadata": {
        "id": "Q7qVF5gt-6Hh"
      }
    },
    {
      "cell_type": "code",
      "source": [
        "leafs = range(125,350,25)\n",
        "err = [] # error list\n",
        "\n",
        "for leaf in leafs:\n",
        "  model = RandomForestRegressor(max_leaf_nodes = leaf)\n",
        "  model.fit(X_train, y_train)\n",
        "  y_pred = model.predict(X_val)\n",
        "  err.append(math.sqrt(mean_squared_error(y_val, y_pred)))"
      ],
      "metadata": {
        "id": "ZgmzU5ps-vpH"
      },
      "execution_count": 30,
      "outputs": []
    },
    {
      "cell_type": "code",
      "source": [
        "import matplotlib.pyplot as plt\n",
        "plt.plot(leafs, err)"
      ],
      "metadata": {
        "colab": {
          "base_uri": "https://localhost:8080/",
          "height": 284
        },
        "id": "zxVynkvs_gni",
        "outputId": "79543067-2b0b-4fd0-dfdf-1ca75302ed80"
      },
      "execution_count": 31,
      "outputs": [
        {
          "output_type": "execute_result",
          "data": {
            "text/plain": [
              "[<matplotlib.lines.Line2D at 0x7f838d8504f0>]"
            ]
          },
          "metadata": {},
          "execution_count": 31
        },
        {
          "output_type": "display_data",
          "data": {
            "text/plain": [
              "<Figure size 432x288 with 1 Axes>"
            ],
            "image/png": "[encoded data removed]"
          },
          "metadata": {
            "needs_background": "light"
          }
        }
      ]
    },
    {
      "cell_type": "markdown",
      "source": [
        "# **Best n estimator**"
      ],
      "metadata": {
        "id": "AFFtq6R4AA9m"
      }
    },
    {
      "cell_type": "code",
      "source": [
        "n_estimators = range(100,501,100)\n",
        "err = []\n",
        "\n",
        "for n in n_estimators:\n",
        "  model = RandomForestRegressor(n_estimators=n, max_leaf_nodes=325)\n",
        "  model.fit(X_train, y_train)\n",
        "  y_pred = model.predict(X_val)\n",
        "  err.append(math.sqrt(mean_squared_error(y_val, y_pred)))"
      ],
      "metadata": {
        "id": "rvObdmI1AEVL"
      },
      "execution_count": 32,
      "outputs": []
    },
    {
      "cell_type": "code",
      "source": [
        "plt.plot(n_estimators, err)"
      ],
      "metadata": {
        "colab": {
          "base_uri": "https://localhost:8080/",
          "height": 282
        },
        "id": "PQReIz2-AbG8",
        "outputId": "48332655-0a37-43b8-ab24-3ace2a272d6d"
      },
      "execution_count": 33,
      "outputs": [
        {
          "output_type": "execute_result",
          "data": {
            "text/plain": [
              "[<matplotlib.lines.Line2D at 0x7f838d6b8970>]"
            ]
          },
          "metadata": {},
          "execution_count": 33
        },
        {
          "output_type": "display_data",
          "data": {
            "text/plain": [
              "<Figure size 432x288 with 1 Axes>"
            ],
            "image/png": "[encoded data removed]"
          },
          "metadata": {
            "needs_background": "light"
          }
        }
      ]
    },
    {
      "cell_type": "markdown",
      "source": [
        "---\n",
        "---\n",
        "# **Single or Cross**"
      ],
      "metadata": {
        "id": "fRfaeaae_1rU"
      }
    },
    {
      "cell_type": "code",
      "source": [
        "# Single\n",
        "model = RandomForestRegressor(200, max_leaf_nodes=325)\n",
        "model.fit(X_train, y_train)\n",
        "y_pred = model.predict(X_val)\n",
        "model_validation(y_val, y_pred)"
      ],
      "metadata": {
        "colab": {
          "base_uri": "https://localhost:8080/"
        },
        "id": "AJh2EVWb_s4w",
        "outputId": "6e459561-0ba1-457d-c160-0f0a2e0f1f52"
      },
      "execution_count": 34,
      "outputs": [
        {
          "output_type": "stream",
          "name": "stdout",
          "text": [
            "RMSE:  6743.684671593706\n"
          ]
        }
      ]
    },
    {
      "cell_type": "code",
      "source": [
        "# Cross\n",
        "from sklearn.model_selection import cross_val_score\n",
        "\n",
        "scores  =  -1 * cross_val_score(model, X, y, cv=5, scoring='neg_mean_squared_error')\n",
        "\n",
        "# Take the Root for each value\n",
        "for score in range(len(scores)):\n",
        "  scores[score] = math.sqrt(scores[score])\n",
        "\n",
        "scores"
      ],
      "metadata": {
        "colab": {
          "base_uri": "https://localhost:8080/"
        },
        "id": "oeeWkiwkAulU",
        "outputId": "b5433201-c8f5-4079-f0bc-bd41cc266472"
      },
      "execution_count": 35,
      "outputs": [
        {
          "output_type": "execute_result",
          "data": {
            "text/plain": [
              "array([65645.94906927, 22821.01334784, 44034.14320784, 34650.81674299,\n",
              "       57836.15813207])"
            ]
          },
          "metadata": {},
          "execution_count": 35
        }
      ]
    },
    {
      "cell_type": "code",
      "source": [
        "# The mean for the scores\n",
        "scores.mean()"
      ],
      "metadata": {
        "colab": {
          "base_uri": "https://localhost:8080/"
        },
        "id": "U3rFwh8MBCrF",
        "outputId": "7aaa4e6d-89fb-43dd-822a-6da6d56946cb"
      },
      "execution_count": 36,
      "outputs": [
        {
          "output_type": "execute_result",
          "data": {
            "text/plain": [
              "44997.61610000079"
            ]
          },
          "metadata": {},
          "execution_count": 36
        }
      ]
    },
    {
      "cell_type": "markdown",
      "source": [
        "Single is Better than cross validation"
      ],
      "metadata": {
        "id": "WLRwjcouB_kJ"
      }
    },
    {
      "cell_type": "markdown",
      "source": [
        "---\n",
        "--- \n",
        "# **Build final model**"
      ],
      "metadata": {
        "id": "fBk921s9BOUe"
      }
    },
    {
      "cell_type": "code",
      "source": [
        "final_model = RandomForestRegressor(200, max_leaf_nodes=325)\n",
        "final_model.fit(X, y)\n",
        "y_pred = model.predict(X_val)\n",
        "model_validation(y_val, y_pred)\n",
        "#RMSE:  6743.684671593706"
      ],
      "metadata": {
        "colab": {
          "base_uri": "https://localhost:8080/"
        },
        "id": "AOKrRLhhBE6r",
        "outputId": "6b2bf94e-1e6f-465d-a970-1bf7b61995c0"
      },
      "execution_count": 37,
      "outputs": [
        {
          "output_type": "stream",
          "name": "stdout",
          "text": [
            "RMSE:  6743.684671593706\n"
          ]
        }
      ]
    }
  ]
}